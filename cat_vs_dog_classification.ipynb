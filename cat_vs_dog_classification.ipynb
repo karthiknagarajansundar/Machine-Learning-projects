{
 "cells": [
  {
   "cell_type": "markdown",
   "metadata": {
    "deletable": false,
    "editable": false,
    "nbgrader": {
     "cell_type": "markdown",
     "checksum": "42f960a95815e1aa3ce8132fcec59cd9",
     "grade": false,
     "grade_id": "cell-a15fe781533d9590",
     "locked": true,
     "schema_version": 3,
     "solution": false,
     "task": false
    }
   },
   "source": [
    "### Check Python version"
   ]
  },
  {
   "cell_type": "code",
   "execution_count": 3,
   "metadata": {
    "deletable": false,
    "editable": false,
    "nbgrader": {
     "cell_type": "code",
     "checksum": "4a5517d7993b4b35049f0013dd6a3f55",
     "grade": false,
     "grade_id": "cell-2b9c2390ee464c39",
     "locked": true,
     "schema_version": 3,
     "solution": false,
     "task": false
    }
   },
   "outputs": [],
   "source": [
    "from platform import python_version_tuple\n",
    "assert python_version_tuple()[:2] == ('3','7'), \"You are not running Python 3.7. Make sure to run Python through the course Conda environment.\""
   ]
  },
  {
   "cell_type": "markdown",
   "metadata": {
    "deletable": false,
    "editable": false,
    "nbgrader": {
     "cell_type": "markdown",
     "checksum": "f0dd7cbad727dec0308b03071cff6d79",
     "grade": false,
     "grade_id": "cell-8092c3fd452a3245",
     "locked": true,
     "schema_version": 3,
     "solution": false
    }
   },
   "source": [
    "# HA1 - Cats and dogs"
   ]
  },
  {
   "cell_type": "markdown",
   "metadata": {
    "deletable": false,
    "editable": false,
    "nbgrader": {
     "cell_type": "markdown",
     "checksum": "a54241ea89512f794ee9e366f2ef92f3",
     "grade": false,
     "grade_id": "cell-0235e816fc98b0f6",
     "locked": true,
     "schema_version": 3,
     "solution": false
    }
   },
   "source": [
    "<img src=\"https://cdn.pixabay.com/photo/2015/05/20/10/03/cat-and-dog-775116_960_720.jpg\" alt=\"Image of cats and dogs\" style=\"width: 500px;\"/>"
   ]
  },
  {
   "cell_type": "markdown",
   "metadata": {
    "deletable": false,
    "editable": false,
    "nbgrader": {
     "cell_type": "markdown",
     "checksum": "fdc628c18fc9d6f74c31d438a71ee482",
     "grade": false,
     "grade_id": "cell-c4bb694612153106",
     "locked": true,
     "schema_version": 3,
     "solution": false
    }
   },
   "source": [
    "For this home assignment, we'll use the Kaggle dataset for the [Dogs vs. Cats competition](https://www.kaggle.com/c/dogs-vs-cats). It is comprised of 25k colour images of dogs and cats. Our goal with this dataset will be to create a classifier that can tell us if the input image is of a cat or a dog."
   ]
  },
  {
   "cell_type": "markdown",
   "metadata": {
    "deletable": false,
    "editable": false,
    "nbgrader": {
     "cell_type": "markdown",
     "checksum": "74fa6126f847f4dcd7beb20fd3883a15",
     "grade": false,
     "grade_id": "cell-ee9e2aee031325a2",
     "locked": true,
     "schema_version": 3,
     "solution": false,
     "task": false
    }
   },
   "source": [
    "## Using your cloud GPU\n",
    "As a way of helping you speed up the training process, each group gets access to a cloud instance with a GPU. Take a look at the [instructions folder](https://github.com/JulianoLagana/deep-machine-learning/blob/master/instructions/) to understand how to connect to an instance and use our tools there. You're free to use this limited resource as you see fit, but if you spend all your credits, you'll need a late day to obtain more (and you can only do this once).\n",
    "\n",
    "### Strong recommendation:\n",
    "In order to make the most out of your GPU hours, first try solving the initial part of this notebook (tasks 0-3) in your own computer (these tasks can be solved on the CPU), and leave most of the available hours for solving tasks 4-5, and refining your best model further (and, if you have the spare hours, experiment a bit!).\n",
    "\n",
    "### Working efficiently:\n",
    "Training for several epochs just to have your code break at the last validation step is incredibly frustrating and inefficient. Good practice is to first test long training runs with a much simpler dry-run: a single epoch, a few batches et c."
   ]
  },
  {
   "cell_type": "markdown",
   "metadata": {
    "deletable": false,
    "editable": false,
    "nbgrader": {
     "cell_type": "markdown",
     "checksum": "58e21e6f2c6b85e2c1f235d31baaf966",
     "grade": false,
     "grade_id": "cell-f7371c24b57c153e",
     "locked": true,
     "schema_version": 3,
     "solution": false
    }
   },
   "source": [
    "Requirements:\n",
    "- Whenever we ask you to plot anything, be sure to add a title and label the axes. If you're plotting more than one curve in the same plot, also add a legend.\n",
    "- When we ask you to train an architecture, train it for a reasonable number of epochs. \"Reasonable\" here means you should be fairly confident that training for a higher number of epochs wouldn't impact your conclusions regarding the model's performance. When experimenting, a single epoch is often enough to tell whether your model setup has improved or not.\n",
    "\n",
    "\n",
    "Hints:\n",
    "- If you get errors saying you've exhausted the GPU resources, well, then you've exhausted the GPU resources. However, sometimes that's because `pytorch` didn't release a part of the GPU's memory. If you think your CNN should fit in your memory during training, try restarting the kernel and directly training only that architecture.\n",
    "- Every group has enough cloud credits to complete this assignment. However, this statement assumes you'll use your resources judiciously (e.g. always try the code first in your machine and make sure everything works properly before starting your instances) and **won't forget to stop your instance after using it,**  otherwise you might run out of credits.\n",
    "- Before starting, take a look at the images we'll be using. This is a hard task, don't get discouraged if your first models perform poorly (several participants in the original competition didn't achieve an accuracy higher than 60%).\n",
    "- Solving the [computer labs](https://github.com/JulianoLagana/deep-machine-learning/tree/master/computer-labs) is a good way to get prepared for this assignment."
   ]
  },
  {
   "cell_type": "markdown",
   "metadata": {
    "deletable": false,
    "editable": false,
    "nbgrader": {
     "cell_type": "markdown",
     "checksum": "9f50e27a30d83bcebeb52a8ae43228e2",
     "grade": false,
     "grade_id": "cell-3ee6d24346a80d85",
     "locked": true,
     "schema_version": 3,
     "solution": false
    }
   },
   "source": [
    "---\n",
    "## 0. Imports\n",
    "\n",
    "In the following cell, add all the imports you'll use in this assignment."
   ]
  },
  {
   "cell_type": "code",
   "execution_count": 7,
   "metadata": {
    "deletable": false,
    "nbgrader": {
     "cell_type": "code",
     "checksum": "0075c816ac7a24f2287d6fa9b8a81565",
     "grade": true,
     "grade_id": "cell-464a08ede00083a4",
     "locked": false,
     "points": 0,
     "schema_version": 3,
     "solution": true
    }
   },
   "outputs": [],
   "source": [
    "# YOUR CODE HERE\n",
    "from pathlib import Path\n",
    "\n",
    "#Plotting\n",
    "import matplotlib.pyplot as plt\n",
    "\n",
    "#Pytorch\n",
    "import torch\n",
    "from torch import nn, optim\n",
    "from torch.utils.data import DataLoader, TensorDataset, random_split\n",
    "\n",
    "import torch.nn.functional as F\n",
    "import torchvision.models as models\n",
    "from torchvision import datasets, transforms\n",
    "from torchvision.datasets import ImageFolder\n",
    "\n",
    "#Helper function for splitting dataset\n",
    "from sklearn.model_selection import train_test_split\n",
    "\n",
    "#Fancy progress bar\n",
    "from tqdm.notebook import tqdm\n",
    "\n",
    "from pandas import DataFrame\n",
    "from PIL import Image"
   ]
  },
  {
   "cell_type": "markdown",
   "metadata": {
    "deletable": false,
    "editable": false,
    "nbgrader": {
     "cell_type": "markdown",
     "checksum": "49bf801d5ced99ccf6f0c5cd12100230",
     "grade": false,
     "grade_id": "cell-4821dc273028d702",
     "locked": true,
     "schema_version": 3,
     "solution": false
    }
   },
   "source": [
    "---\n",
    "## 1. Loading the data and preprocessing"
   ]
  },
  {
   "cell_type": "markdown",
   "metadata": {
    "deletable": false,
    "editable": false,
    "nbgrader": {
     "cell_type": "markdown",
     "checksum": "d2cfdb936c364826fa8bc7a7adaf411c",
     "grade": false,
     "grade_id": "cell-2ea049dea4713494",
     "locked": true,
     "schema_version": 3,
     "solution": false
    }
   },
   "source": [
    "The first step is to head to the [Kaggle website for the cats and dogs competition](https://www.kaggle.com/c/dogs-vs-cats/data) and download the data from there. You should download both the test and train folders together in one zip file (there is a `Download all` button at the bottom of the page). Unfortunately, you need to create a Kaggle account for this.\n",
    "\n",
    "**Only necessary for tasks 4-6**: Downloading the data to your local computer is quite straight-forward. Sooner or later you will have to upload the data to the cloud instance and that is a bit more tricky. There are a few ways to do it:\n",
    "\n",
    " - Jupyter Notebook upload function. When starting the notebook server with the command `jupyter notebook` you are directed to a main page. In the top right corner there is an upload button.\n",
    " - Using [`scp`](https://linuxize.com/post/how-to-use-scp-command-to-securely-transfer-files/) to copy files via an ssh connection.\n",
    " - Using the [Kaggle CLI](https://github.com/Kaggle/kaggle-api). We have added it to the conda environment.\n",
    "\n",
    "For this assignment we will again need data loaders. Like before we need to create a `Dataset` to give as input to a `DataLoader`. \n",
    "Fortunately, this type of image data is quite common so we get some help from `pytorch`. We can use [`ImageFolder`](https://pytorch.org/docs/stable/torchvision/datasets.html#imagefolder) to create a `Dataset` for our images. As long as our folder structure for the data conforms to the folder structure expected by `ImageFolder`, we can use it right out of the box and the `DataLoader` class will happily accept it as input.\n",
    "\n",
    "To use `ImageFolder` you should create a folder structure that resembles the following (obviously, the folder names are up to you):\n",
    "\n",
    "\n",
    "         small_train             small_val                train                   val\n",
    "              |                      |                      |                      |\n",
    "              |                      |                      |                      |\n",
    "        -------------          -------------          -------------          -------------\n",
    "        |           |          |           |          |           |          |           |\n",
    "        |           |          |           |          |           |          |           |\n",
    "      cats        dogs       cats        dogs       cats        dogs       cats        dogs\n",
    "\n",
    "\n",
    "The `small_train` and `small_val` folders have the training and validation samples for your smaller subset of the data, while the `train` and `val` folders contain all the samples you extracted from Kaggle's `train.zip`.\n",
    "This is just a convenient way of having a smaller dataset to play with for faster prototyping.\n",
    "\n",
    "We provide you a notebook that shows how to achieve this folder structure (`create_project_notebook_structure.ipynb`), starting from the original `dogs-vs-cats.zip` file that you download from Kaggle. If you do use that notebook, we encourage you to understand how each step is being done, so you can generalize this knowledge to new datasets you'll encounter."
   ]
  },
  {
   "cell_type": "markdown",
   "metadata": {
    "deletable": false,
    "editable": false,
    "nbgrader": {
     "cell_type": "markdown",
     "checksum": "687bc3927319df0106d64054f8854128",
     "grade": false,
     "grade_id": "cell-89ba19509b952af2",
     "locked": true,
     "schema_version": 3,
     "solution": false
    }
   },
   "source": [
    "For the smaller dataset, we advise you to use 70% of the data as training data (and thereby the remaining 30% for validation data). However, for the larger dataset, you should decide how to split between training and validation.\n",
    "\n",
    "**What percentage of the larger dataset did you decide to use for training?**"
   ]
  },
  {
   "cell_type": "markdown",
   "metadata": {
    "deletable": false,
    "nbgrader": {
     "cell_type": "markdown",
     "checksum": "70ba7076cdc41aac550685544ccb0fa2",
     "grade": true,
     "grade_id": "cell-7f3b0dfbd90a14c1",
     "locked": false,
     "points": 0,
     "schema_version": 3,
     "solution": true
    }
   },
   "source": [
    "**Your answer:** 80%"
   ]
  },
  {
   "cell_type": "markdown",
   "metadata": {
    "deletable": false,
    "editable": false,
    "nbgrader": {
     "cell_type": "markdown",
     "checksum": "0a15cc209809b8aaaba643525ad54273",
     "grade": false,
     "grade_id": "cell-8964386e29e42eee",
     "locked": true,
     "schema_version": 3,
     "solution": false,
     "task": false
    }
   },
   "source": [
    "**Optional (1 POE):** Did you decide to keep the same ratio split between train and validation sets for the larger dataset? Motivate your decision!\n"
   ]
  },
  {
   "cell_type": "markdown",
   "metadata": {
    "deletable": false,
    "nbgrader": {
     "cell_type": "markdown",
     "checksum": "c3748ce886332354dee82a16ffd9a9a3",
     "grade": true,
     "grade_id": "cell-88d41e16176067ca",
     "locked": false,
     "points": 1,
     "schema_version": 3,
     "solution": true,
     "task": false
    }
   },
   "source": [
    "**Your answer:** Since the validation set needs to capture the distribution of the dataset fairly accurately, but the majority of data should go into training, a size of 80% training 20% validation was chosen. It can be reasoned that as the total number of data points has increased, if a 30% validation set accurately captures the distribution of the dataset for a small number of datapoints, the validation set size does not need to increase linearly in order to accurately capture the same distribution."
   ]
  },
  {
   "cell_type": "markdown",
   "metadata": {
    "deletable": false,
    "editable": false,
    "nbgrader": {
     "cell_type": "markdown",
     "checksum": "834d9263037e9d6133fb6ca7faef761b",
     "grade": false,
     "grade_id": "cell-876ca7df88c9311f",
     "locked": true,
     "schema_version": 3,
     "solution": false
    }
   },
   "source": [
    "Fill in the dataset paths (to be used later by your data loaders):"
   ]
  },
  {
   "cell_type": "code",
   "execution_count": 8,
   "metadata": {
    "deletable": false,
    "nbgrader": {
     "cell_type": "code",
     "checksum": "977d3723abd484be4bfa4ffb4590a2d1",
     "grade": true,
     "grade_id": "cell-1b1314f2ab1b1d6b",
     "locked": false,
     "points": 0,
     "schema_version": 3,
     "solution": true
    }
   },
   "outputs": [],
   "source": [
    "# TODO: Change the directories accordingly\n",
    "train_path = \"train\"\n",
    "val_path = \"val\"\n",
    "small_train_path = \"small_train\"\n",
    "small_val_path = \"small_val\"\n",
    "# YOUR CODE HERE"
   ]
  },
  {
   "cell_type": "markdown",
   "metadata": {
    "deletable": false,
    "editable": false,
    "nbgrader": {
     "cell_type": "markdown",
     "checksum": "6da7e41128b82828313028806f0ff72c",
     "grade": false,
     "grade_id": "cell-1d6ea64bca94a4ef",
     "locked": true,
     "schema_version": 3,
     "solution": false
    }
   },
   "source": [
    "---\n",
    "### 1.1 Preprocessing\n",
    "**(1 POE)** \n",
    "\n",
    "Once you have the expected folder structure, create two data loaders for automatically generating batches from the images in your smaller subset of data. It is here we choose how to preprocess the input data. There are multiple reasons for why we preprocess data:\n",
    "\n",
    "- Some transformations might be needed to actually make the data work with our network (reshaping, permuting dimensions et c.).\n",
    "- Make the training more efficient by making the input dimensions smaller, e.g. resizing, cropping.\n",
    "- Artificially expanding the training data through [data augmentation](https://cartesianfaith.com/2016/10/06/what-you-need-to-know-about-data-augmentation-for-machine-learning/)\n",
    "- We have some clever idea of how to change the data to make the training process better.\n",
    "\n",
    "We do not expect you to do data augmentation, but feel free to preprocess the data as you see fit.\n",
    "Construct an `ImageFolder` dataset like this:\n",
    "\n",
    "```python\n",
    "ImageFolder(<path_to_data_folder>, transform=Compose(<list_of_transforms>))\n",
    "# example:\n",
    "ImageFolder(Path.cwd() / \"small_train\", transform=Compose([ToTensor]))\n",
    "```\n",
    "\n",
    "Hints:\n",
    "- Take a look at [`ImageFolder`](https://pytorch.org/docs/stable/torchvision/datasets.html#imagefolder) and [`DataLoader`](https://pytorch.org/docs/stable/data.html#torch.utils.data.DataLoader) from the pytorch docs.\n",
    "- To preprocess the data you can use the built-in pytorch [`Transforms`](https://pytorch.org/docs/stable/torchvision/transforms.html)\n",
    "- The `ImageFolder` dataset provides the data as a python image type. For easy conversion to a `torch.Tensor`, use the [`ToTensor`](https://pytorch.org/docs/stable/torchvision/transforms.html#torchvision.transforms.ToTensor) transformation.\n",
    "- The specified `batch_size` should be chosen so that you train fast but don't run out of memory. You need to figure this out empirically; start small and increase the batch size until you run out of memory.\n",
    "- The `DataLoader` constructor takes an optional argument `num_workers`, which defaults to `0` if not provided. Setting a higher number creates multiple threads which load batches concurrently. This can speed up training considerably.  \n",
    "- When feeding the images to your CNN, you'll probably want all of them to have the same spatial size, even though the .jpeg files differ in this. Resizing the images can be done using the previously mentioned built-in pytorch Transforms.\n",
    "- Resizing the images to a smaller size while loading them can be beneficial. The VGG network that is used later in this assignment requires that images are at least 224x224, but before that use small images to speed up training. The CNN's do surprisingly well on 64x64 or even 32x32 images. Shorter training cycles give your more time to experiment!\n",
    "\n",
    "We encourage you to explore the data and choose transformations that you believe to be useful. For exploration we provide you with some helper functions to visually compare transformations side by side:"
   ]
  },
  {
   "cell_type": "code",
   "execution_count": 9,
   "metadata": {
    "deletable": false,
    "editable": false,
    "nbgrader": {
     "cell_type": "code",
     "checksum": "6b63cfb45608fab1b1ddda42ffb5aa32",
     "grade": false,
     "grade_id": "cell-5ca8fc808d4ee65b",
     "locked": true,
     "schema_version": 3,
     "solution": false,
     "task": false
    }
   },
   "outputs": [],
   "source": [
    "def compare_transforms(transformations, index):\n",
    "    \"\"\"Visually compare transformations side by side.\n",
    "    Takes a list of ImageFolder datasets with different compositions of transformations.\n",
    "    It then display the `index`th image of the dataset for each transformed dataset in the list.\n",
    "    \n",
    "    Example usage:\n",
    "        compare_transforms([dataset_with_transform_1, dataset_with_transform_2], 0)\n",
    "    \n",
    "    Args:\n",
    "        transformations (list(ImageFolder)): list of ImageFolder instances with different transformations\n",
    "        index (int): Index of the sample in the ImageFolder you wish to compare.\n",
    "    \"\"\"\n",
    "    \n",
    "    # Here we combine two neat functions from basic python to validate the input to the function:\n",
    "    # - `all` takes an iterable (something we can loop over, like a list) of booleans\n",
    "    #    and returns True if every element is True, otherwise it returns False.\n",
    "    # - `isinstance` checks whether a variable is an instance of a particular type (class)\n",
    "    if not all(isinstance(transf, ImageFolder) for transf in transformations):\n",
    "        raise TypeError(\"All elements in the `transformations` list need to be of type ImageFolder\")\n",
    "        \n",
    "    num_transformations = len(transformations)\n",
    "    fig, axes = plt.subplots(1, num_transformations)\n",
    "    \n",
    "    # This is just a hack to make sure that `axes` is a list of the same length as `transformations`.\n",
    "    # If we only have one element in the list, `plt.subplots` will not create a list of a single axis\n",
    "    # but rather just an axis without a list.\n",
    "    if num_transformations == 1:\n",
    "        axes = [axes]\n",
    "        \n",
    "    for counter, (axis, transf) in enumerate(zip(axes, transformations)):\n",
    "        axis.set_title(\"transf: {}\".format(counter))\n",
    "        image_tensor = transf[index][0]\n",
    "        display_image(axis, image_tensor)\n",
    "\n",
    "    plt.show()\n",
    "\n",
    "def display_image(axis, image_tensor):\n",
    "    \"\"\"Display a tensor as image\n",
    "    \n",
    "    Example usage:\n",
    "        _, axis = plt.subplots()\n",
    "        some_random_index = 453\n",
    "        image_tensor, _ = train_dataset[some_random_index]\n",
    "        display_image(axis, image_tensor)\n",
    "    \n",
    "    Args:\n",
    "        axis (pyplot axis)\n",
    "        image_tensor (torch.Tensor): tensor with shape (num_channels=3, width, heigth)\n",
    "    \"\"\"\n",
    "    \n",
    "    # See hint above\n",
    "    if not isinstance(image_tensor, torch.Tensor):\n",
    "        raise TypeError(\"The `display_image` function expects a `torch.Tensor` \" +\n",
    "                        \"use the `ToTensor` transformation to convert the images to tensors.\")\n",
    "        \n",
    "    # The imshow commands expects a `numpy array` with shape (3, width, height)\n",
    "    # We rearrange the dimensions with `permute` and then convert it to `numpy`\n",
    "    image_data = image_tensor.permute(1, 2, 0).numpy()\n",
    "    height, width, _ = image_data.shape\n",
    "    axis.imshow(image_data)\n",
    "    axis.set_xlim(0, width)\n",
    "    # By convention when working with images, the origin is at the top left corner.\n",
    "    # Therefore, we switch the order of the y limits.\n",
    "    axis.set_ylim(height, 0)"
   ]
  },
  {
   "cell_type": "code",
   "execution_count": 10,
   "metadata": {
    "deletable": false,
    "nbgrader": {
     "cell_type": "code",
     "checksum": "493b16ca331bf9f2d42ed571caec3130",
     "grade": true,
     "grade_id": "cell-31b81f052b6e681e",
     "locked": false,
     "points": 1,
     "schema_version": 3,
     "solution": true,
     "task": false
    }
   },
   "outputs": [
    {
     "name": "stderr",
     "output_type": "stream",
     "text": [
      "Clipping input data to the valid range for imshow with RGB data ([0..1] for floats or [0..255] for integers).\n",
      "Clipping input data to the valid range for imshow with RGB data ([0..1] for floats or [0..255] for integers).\n",
      "Clipping input data to the valid range for imshow with RGB data ([0..1] for floats or [0..255] for integers).\n"
     ]
    },
    {
     "data": {
      "image/png": "[encoded data removed]",
      "text/plain": [
       "<Figure size 432x288 with 1 Axes>"
      ]
     },
     "metadata": {
      "needs_background": "light"
     },
     "output_type": "display_data"
    },
    {
     "data": {
      "image/png": "[encoded data removed]",
      "text/plain": [
       "<Figure size 432x288 with 2 Axes>"
      ]
     },
     "metadata": {
      "needs_background": "light"
     },
     "output_type": "display_data"
    }
   ],
   "source": [
    "# YOUR CODE HERE\n",
    "%matplotlib inline\n",
    "\n",
    "batch_size = 128\n",
    "pic_size = (64, 64)\n",
    "trans_vec = transforms.Compose([transforms.Resize(pic_size), \n",
    "                                transforms.ToTensor(), \n",
    "                                transforms.Normalize(mean=[0.485, 0.456, 0.406],\n",
    "                                                    std=[0.229, 0.224, 0.225])])\n",
    "\n",
    "# Small data set\n",
    "small_train_IF = datasets.ImageFolder(Path(small_train_path), transform = trans_vec)\n",
    "small_val_IF = datasets.ImageFolder(Path(small_val_path), transform = trans_vec)\n",
    "\n",
    "# Test code\n",
    "_, axis = plt.subplots()\n",
    "some_random_index = 40\n",
    "image_tensor, _ = small_train_IF[some_random_index]\n",
    "display_image(axis, image_tensor)\n",
    "\n",
    "#Comparing transformations \n",
    "small_norm = datasets.ImageFolder(Path(small_train_path), transform = transforms.Compose([transforms.Resize(pic_size), \n",
    "                                                                                          transforms.ToTensor(), \n",
    "                                                                                          transforms.Normalize(mean=[0.485, 0.456, 0.406],\n",
    "                                                                                                            std=[0.229, 0.224, 0.225])]))\n",
    "compare_transforms([small_train_IF, small_norm], 5)\n",
    "\n",
    "#Dataloading\n",
    "dl_train_small = DataLoader(small_train_IF, batch_size = batch_size, shuffle = True, num_workers = 4)\n",
    "dl_val_small = DataLoader(small_val_IF, batch_size = batch_size, shuffle = True, num_workers = 4)\n",
    "\n",
    "\n",
    "train_data_loader = dl_train_small\n",
    "val_data_loader = dl_val_small\n",
    "\n",
    "val_dataset = small_val_IF\n",
    "train_dataset = small_train_IF"
   ]
  },
  {
   "cell_type": "markdown",
   "metadata": {
    "nbgrader": {
     "cell_type": "markdown",
     "checksum": "16c576d5cad5ec453068ac139dc3f454",
     "grade": false,
     "grade_id": "cell-24463974ae20a276",
     "locked": true,
     "schema_version": 3,
     "solution": false,
     "task": false
    }
   },
   "source": [
    "**(2 POE)** How did you select transformations, if any? Briefly explain your reasoning:"
   ]
  },
  {
   "cell_type": "markdown",
   "metadata": {
    "nbgrader": {
     "cell_type": "markdown",
     "checksum": "efec72804bea1b6cec8eba964299148a",
     "grade": true,
     "grade_id": "cell-051ee24a83af3cf8",
     "locked": false,
     "points": 2,
     "schema_version": 3,
     "solution": true,
     "task": false
    }
   },
   "source": [
    "**Your answer:** To more quickly train the CNN network, the images were downsized to 64 pixels square. In addition, to decrease the variance of the dataset, normalization was applied. The mean and standard deviation of which were taken from the preprocessing of the ImageNet dataset."
   ]
  },
  {
   "cell_type": "markdown",
   "metadata": {
    "deletable": false,
    "editable": false,
    "nbgrader": {
     "cell_type": "markdown",
     "checksum": "6f7d18f73a495811569bd83851d125b4",
     "grade": false,
     "grade_id": "cell-c0bfc1ac7fadfcc7",
     "locked": true,
     "schema_version": 3,
     "solution": false
    }
   },
   "source": [
    "---\n",
    "## 2. Training\n",
    "\n",
    "**(1 POE)**\n",
    "\n",
    "Create your first CNN architecture for this task. Start with something as simple as possible, that you're almost sure can get an accuracy better than 50% (we'll improve upon it later).\n",
    "Naturally, you must also select a loss function and an optimizer.\n",
    "\n",
    "Hints:\n",
    "\n",
    "- Training on a CPU is slow and in the beginning you just want to verify that your architecture actually produces a predicition with the correct shape. Make everything you can to speed up the prototyping phase, e.g. train only for a single epoch and make the images ridiculously small.\n",
    "- Going from the last CNN layer to the final fully connected layer is not trivial. The convolutions produces \"3D\" output which we can think of as an image with many channels, while the fully connected layer expects a row vector as input. Calculate how many output features the convolutions produce and use `.reshape` to make your tensor fit the fully connected layer. (It is also common to see the `.view` method to do the same thing. They basically do the same thing but have some differences in internal memory management.) *Hint within the hint:* remember that the fully connected layers expects a *batch* of 1D tensors. \n"
   ]
  },
  {
   "cell_type": "code",
   "execution_count": 11,
   "metadata": {
    "deletable": false,
    "nbgrader": {
     "cell_type": "code",
     "checksum": "2640d61f483bd3ac9c018fd407f71ace",
     "grade": true,
     "grade_id": "cell-4c9de348cd8bc4ff",
     "locked": false,
     "points": 1,
     "schema_version": 3,
     "solution": true
    }
   },
   "outputs": [],
   "source": [
    "# YOUR CODE HERE\n",
    "class CatDogClassifierNetwork(nn.Module):\n",
    "    def __init__(self):\n",
    "        super().__init__()\n",
    "        #Conv-layers\n",
    "        self.conv1 = nn.Conv2d(in_channels=3, out_channels=20, kernel_size=3)\n",
    "        self.conv2 = nn.Conv2d(in_channels=20, out_channels=40, kernel_size=3)\n",
    "        self.conv3 = nn.Conv2d(in_channels=40, out_channels=80, kernel_size=3)\n",
    "        \n",
    "        #FC-classifying-layers\n",
    "        self.fc1 = nn.Linear(6*6*80, 100)\n",
    "        self.fc2 = nn.Linear(100, 2)\n",
    "        \n",
    "    def forward(self, x):\n",
    "        #Conv-layers\n",
    "        x = F.relu(self.conv1(x))\n",
    "        x = F.max_pool2d(x, kernel_size=2)\n",
    "        \n",
    "        x = F.relu(self.conv2(x))\n",
    "        x = F.max_pool2d(x, kernel_size=2)\n",
    "        \n",
    "        x = F.relu(self.conv3(x))\n",
    "        x = F.max_pool2d(x, kernel_size=2)\n",
    "        \n",
    "        #Print here to check size of x before FC layers\n",
    "        #print(x.size())\n",
    "        \n",
    "        x = x.view(-1, 6*6*80)\n",
    "        #FC-classifier\n",
    "        x = F.relu(self.fc1(x))\n",
    "        x = self.fc2(x)\n",
    "        \n",
    "        return x\n",
    "\n",
    "\n",
    "def evaluate_model(val_data_loader, model, loss_fn):\n",
    "    losses = []\n",
    "    n_correct = 0\n",
    "    with torch.no_grad():\n",
    "        for b_x, b_y in val_data_loader:\n",
    "            #Check if we have cuda enabled. Will get type error otherwise.\n",
    "            if torch.cuda.is_available():\n",
    "                b_x = b_x.cuda()\n",
    "                b_y = b_y.cuda()\n",
    "            \n",
    "            pred = model(b_x)\n",
    "            loss = loss_fn(pred, b_y)\n",
    "            losses.append(loss.item())\n",
    "            \n",
    "            hard_preds = pred.argmax(dim=1)\n",
    "            n_correct += torch.sum(pred.argmax(dim=1) == b_y).item()\n",
    "        val_accuracy = n_correct/len(val_dataset)\n",
    "        val_avg_loss = sum(losses)/len(losses)    \n",
    "    \n",
    "    return val_accuracy, val_avg_loss\n",
    "\n",
    "def evaluate_epoch(train_data_loader, val_data_loader, model, loss_fn, optimizer):\n",
    "    losses = []\n",
    "    n_correct = 0\n",
    "    #for b_x, b_y in tqdm(train_data_loader):\n",
    "    for b_x, b_y in train_data_loader:\n",
    "        if torch.cuda.is_available():\n",
    "            b_x = b_x.cuda()\n",
    "            b_y = b_y.cuda()\n",
    "        \n",
    "        # Compute predictions and losses\n",
    "        pred = model(b_x)\n",
    "        loss = loss_fn(pred, b_y)\n",
    "        losses.append(loss.item())\n",
    "        \n",
    "        # Count number of correct predictions\n",
    "        hard_preds = pred.argmax(dim=1)\n",
    "        n_correct += torch.sum(pred.argmax(dim=1) == b_y).item()\n",
    "\n",
    "        # Backpropagate\n",
    "        loss.backward()\n",
    "        optimizer.step()\n",
    "        optimizer.zero_grad()    \n",
    "        \n",
    "    # Compute accuracy and loss in the entire training set\n",
    "    train_accuracy = n_correct/len(train_dataset)\n",
    "    train_avg_loss = sum(losses)/len(losses)    \n",
    "        \n",
    "    # Compute accuracy and loss in the entire validation set\n",
    "    val_accuracy, val_avg_loss = evaluate_model(val_data_loader, model, loss_fn)\n",
    "    \n",
    "    return train_accuracy, train_avg_loss, val_accuracy, val_avg_loss"
   ]
  },
  {
   "cell_type": "markdown",
   "metadata": {
    "deletable": false,
    "editable": false,
    "nbgrader": {
     "cell_type": "markdown",
     "checksum": "8bcf22ee899c7b8a527f4d0f7e2a962d",
     "grade": false,
     "grade_id": "cell-cb6fc78116ad6b75",
     "locked": true,
     "schema_version": 3,
     "solution": false
    }
   },
   "source": [
    "Train your model using the two data loaders you created earlier. Train for a reasonable amount of epochs, so as to get a good sense of how well this architecture performs.\n",
    "\n",
    "Hints:\n",
    "- Note that you will need to plot your training and validation losses and accuracies, so make sure that you saved them during training. "
   ]
  },
  {
   "cell_type": "code",
   "execution_count": 12,
   "metadata": {
    "deletable": false,
    "nbgrader": {
     "cell_type": "code",
     "checksum": "510f9590642bc2210d710bfc6fef2b97",
     "grade": true,
     "grade_id": "cell-bb1fcd878f3bea9a",
     "locked": false,
     "points": 0,
     "schema_version": 3,
     "solution": true
    }
   },
   "outputs": [
    {
     "name": "stdout",
     "output_type": "stream",
     "text": [
      "------ Epoch 0 ------\n",
      "Epoch 0 \tLoss: 0.748 \tLoss (val): 0.678\tAccuracy: 0.51 \tAccuracy (val): 0.61\n",
      "------ Epoch 1 ------\n",
      "Epoch 1 \tLoss: 0.665 \tLoss (val): 0.645\tAccuracy: 0.60 \tAccuracy (val): 0.63\n",
      "------ Epoch 2 ------\n",
      "Epoch 2 \tLoss: 0.634 \tLoss (val): 0.625\tAccuracy: 0.65 \tAccuracy (val): 0.66\n",
      "------ Epoch 3 ------\n",
      "Epoch 3 \tLoss: 0.615 \tLoss (val): 0.605\tAccuracy: 0.66 \tAccuracy (val): 0.67\n",
      "------ Epoch 4 ------\n",
      "Epoch 4 \tLoss: 0.601 \tLoss (val): 0.629\tAccuracy: 0.68 \tAccuracy (val): 0.64\n",
      "------ Epoch 5 ------\n",
      "Epoch 5 \tLoss: 0.589 \tLoss (val): 0.633\tAccuracy: 0.69 \tAccuracy (val): 0.65\n",
      "------ Epoch 6 ------\n",
      "Epoch 6 \tLoss: 0.567 \tLoss (val): 0.620\tAccuracy: 0.71 \tAccuracy (val): 0.67\n",
      "------ Epoch 7 ------\n",
      "Epoch 7 \tLoss: 0.540 \tLoss (val): 0.577\tAccuracy: 0.73 \tAccuracy (val): 0.70\n",
      "------ Epoch 8 ------\n",
      "Epoch 8 \tLoss: 0.523 \tLoss (val): 0.594\tAccuracy: 0.73 \tAccuracy (val): 0.67\n",
      "------ Epoch 9 ------\n",
      "Epoch 9 \tLoss: 0.499 \tLoss (val): 0.597\tAccuracy: 0.76 \tAccuracy (val): 0.69\n"
     ]
    }
   ],
   "source": [
    "# Any pytorch object (e.g. model, inputs, output, etc.) can \n",
    "# be transferred to the current device by running\n",
    "#       name_of_object.to(device)\n",
    "# Example:\n",
    "#       model.to(device)\n",
    "#\n",
    "# The following line automatically figures out what device (cpu or gpu)\n",
    "# you are using and stores the result in `device`.\n",
    "# Later we can use the `.to(device)` method to move our data or model to the correct device.\n",
    "device = torch.device(\"cuda\" if torch.cuda.is_available() \n",
    "                                  else \"cpu\")\n",
    "\n",
    "\n",
    "# YOUR CODE HERE\n",
    "model = CatDogClassifierNetwork()\n",
    "loss_fn = nn.CrossEntropyLoss()\n",
    "optimizer = optim.Adam(model.parameters(), lr=0.005)\n",
    "\n",
    "model.to(device)\n",
    "\n",
    "#Quick switch epochs\n",
    "epochs = 10\n",
    "\n",
    "# Create arrays to save all of the metrics throughout training\n",
    "train_losses = []\n",
    "val_losses = []\n",
    "train_accs = []\n",
    "val_accs = []\n",
    "\n",
    "# Train the model\n",
    "for epoch in range(epochs):\n",
    "    print('------ Epoch {} ------'.format(epoch))\n",
    "    \n",
    "    #Train one epoch\n",
    "    train_accuracy, train_avg_loss, val_accuracy, val_avg_loss = evaluate_epoch(train_data_loader, \n",
    "                                                                                val_data_loader, \n",
    "                                                                                model, \n",
    "                                                                                loss_fn, \n",
    "                                                                                optimizer)\n",
    "    \n",
    "    #Store metrics in arrays\n",
    "    train_losses.append(train_avg_loss)\n",
    "    train_accs.append(train_accuracy)\n",
    "    \n",
    "    val_losses.append(val_avg_loss)\n",
    "    val_accs.append(val_accuracy)\n",
    "    \n",
    "    \n",
    "    # Display metrics\n",
    "    display_str = 'Epoch {} '\n",
    "    display_str += '\\tLoss: {:.3f} '\n",
    "    display_str += '\\tLoss (val): {:.3f}'\n",
    "    display_str += '\\tAccuracy: {:.2f} '\n",
    "    display_str += '\\tAccuracy (val): {:.2f}'\n",
    "    print(display_str.format(epoch, train_avg_loss, val_avg_loss, train_accuracy, val_accuracy))\n",
    "    "
   ]
  },
  {
   "cell_type": "markdown",
   "metadata": {
    "deletable": false,
    "editable": false,
    "nbgrader": {
     "cell_type": "markdown",
     "checksum": "da9811c873c0b5e3672930290854c501",
     "grade": false,
     "grade_id": "cell-4d42c86687697a67",
     "locked": true,
     "schema_version": 3,
     "solution": false
    }
   },
   "source": [
    "Create two plots. In one of them, plot the loss in the training and the validation datasets. In the other one, plot the accuracy in the training and validation datasets."
   ]
  },
  {
   "cell_type": "code",
   "execution_count": 13,
   "metadata": {
    "deletable": false,
    "nbgrader": {
     "cell_type": "code",
     "checksum": "e71729e832321272983178b41b90f874",
     "grade": true,
     "grade_id": "cell-fa81712e1e27432a",
     "locked": false,
     "points": 0,
     "schema_version": 3,
     "solution": true
    }
   },
   "outputs": [
    {
     "data": {
      "image/png": "[encoded data removed]",
      "text/plain": [
       "<Figure size 864x432 with 2 Axes>"
      ]
     },
     "metadata": {
      "needs_background": "light"
     },
     "output_type": "display_data"
    }
   ],
   "source": [
    "# YOUR CODE HERE\n",
    "fig, ax = plt.subplots(ncols=2, figsize=(12,6))\n",
    "plt.ion()\n",
    "\n",
    "ax[0].clear()\n",
    "ax[0].plot(train_losses)\n",
    "ax[0].plot(val_losses)\n",
    "\n",
    "ax[1].clear()\n",
    "ax[1].plot(train_accs)\n",
    "ax[1].plot(val_accs)\n",
    "\n",
    "# Add legends and labels\n",
    "ax[0].set_title('Loss')\n",
    "ax[0].set_xlabel('Number of Epochs')\n",
    "ax[0].legend(['Train', 'Validation'])\n",
    "\n",
    "ax[1].set_title('Accuracy')\n",
    "ax[1].set_xlabel('Number of Epochs')\n",
    "ax[1].legend(['Train', 'Validation'])\n",
    "ax[1].set_ylim([0,1])\n",
    "\n",
    "# Draw the figure on the screen\n",
    "fig.canvas.draw()"
   ]
  },
  {
   "cell_type": "markdown",
   "metadata": {
    "deletable": false,
    "editable": false,
    "nbgrader": {
     "cell_type": "markdown",
     "checksum": "7acc519e5a759ed1c886e05ff54eced1",
     "grade": false,
     "grade_id": "cell-f2fc166890962bcf",
     "locked": true,
     "schema_version": 3,
     "solution": false
    }
   },
   "source": [
    "**(2 POE)** Based on these, what would you suggest for improving your model? Why?"
   ]
  },
  {
   "cell_type": "markdown",
   "metadata": {
    "deletable": false,
    "nbgrader": {
     "cell_type": "markdown",
     "checksum": "2b42c08ae7bcb61726d89b8dd46922d6",
     "grade": true,
     "grade_id": "cell-506e21ce469b67f5",
     "locked": false,
     "points": 2,
     "schema_version": 3,
     "solution": true
    }
   },
   "source": [
    "**Your answer:** We are overfitting to the training data, as validation loss goes up the longer we train for. The accuracy trends in the right direction, but it could converge faster. It would seem like the network has too many features, so any improvements should be made with this in mind. The goal is to reduce the number of features overall.\n",
    "\n",
    "Suggested improvements are to introduce batch normalization and dropout into the net to increase learning speed and combat the overfitting. Since dropout will set some outputs to zero with a certain probability it will force the network to not rely too heavily only on a small set of features. \n",
    "The batch normalization should increase the learning speed as the weights of one layer does not have to correct for the mean and variance of the previous layer. \n",
    "\n",
    "In addition, the sizes of some layers should be changed and experimented with, in order to learn more general features. "
   ]
  },
  {
   "cell_type": "markdown",
   "metadata": {
    "deletable": false,
    "editable": false,
    "nbgrader": {
     "cell_type": "markdown",
     "checksum": "afa8e2c066a79d25a5ad58e8095cbfac",
     "grade": false,
     "grade_id": "cell-ee79a83a62b70a8f",
     "locked": true,
     "schema_version": 3,
     "solution": false
    }
   },
   "source": [
    "---\n",
    "## 3. Improving your model"
   ]
  },
  {
   "cell_type": "markdown",
   "metadata": {
    "deletable": false,
    "editable": false,
    "nbgrader": {
     "cell_type": "markdown",
     "checksum": "0b093333dbbf35daf4261a0acdaec5a4",
     "grade": false,
     "grade_id": "cell-5314d286e79e0377",
     "locked": true,
     "schema_version": 3,
     "solution": false
    }
   },
   "source": [
    "**(1 POE)** Continue to improve your model architecture by comparing the value of the metrics you're interested in for both the training and validation set. Try different ideas! When you're happy with one architecture, copy it in the cell below and train it here. Save the training and validation losses and accuracies. You'll use this later to compare your best model with the one using transfer learning.\n",
    "\n",
    "**Note**: When trying different ideas, you'll end up with several different models. However, when submitting your solutions to Canvas, the cell below must contain only the definition and training of *one* model. Remove all code related to the models that were not chosen."
   ]
  },
  {
   "cell_type": "code",
   "execution_count": 14,
   "metadata": {
    "deletable": false,
    "nbgrader": {
     "cell_type": "code",
     "checksum": "01447485bf51fbce22145e60e0fb8c93",
     "grade": true,
     "grade_id": "cell-6edb7d7e343ab14b",
     "locked": false,
     "points": 1,
     "schema_version": 3,
     "solution": true
    }
   },
   "outputs": [
    {
     "name": "stdout",
     "output_type": "stream",
     "text": [
      "------ Epoch 0 ------\n",
      "Epoch 0 \tLoss: 0.941 \tLoss (val): 0.679\tAccuracy: 0.53 \tAccuracy (val): 0.56\n",
      "------ Epoch 1 ------\n",
      "Epoch 1 \tLoss: 0.666 \tLoss (val): 0.665\tAccuracy: 0.59 \tAccuracy (val): 0.60\n",
      "------ Epoch 2 ------\n",
      "Epoch 2 \tLoss: 0.646 \tLoss (val): 0.649\tAccuracy: 0.64 \tAccuracy (val): 0.62\n",
      "------ Epoch 3 ------\n",
      "Epoch 3 \tLoss: 0.626 \tLoss (val): 0.666\tAccuracy: 0.65 \tAccuracy (val): 0.61\n",
      "------ Epoch 4 ------\n",
      "Epoch 4 \tLoss: 0.612 \tLoss (val): 0.638\tAccuracy: 0.65 \tAccuracy (val): 0.63\n",
      "------ Epoch 5 ------\n",
      "Epoch 5 \tLoss: 0.590 \tLoss (val): 0.614\tAccuracy: 0.68 \tAccuracy (val): 0.64\n",
      "------ Epoch 6 ------\n",
      "Epoch 6 \tLoss: 0.575 \tLoss (val): 0.601\tAccuracy: 0.69 \tAccuracy (val): 0.66\n",
      "------ Epoch 7 ------\n",
      "Epoch 7 \tLoss: 0.562 \tLoss (val): 0.610\tAccuracy: 0.71 \tAccuracy (val): 0.66\n",
      "------ Epoch 8 ------\n",
      "Epoch 8 \tLoss: 0.540 \tLoss (val): 0.600\tAccuracy: 0.73 \tAccuracy (val): 0.68\n",
      "------ Epoch 9 ------\n",
      "Epoch 9 \tLoss: 0.530 \tLoss (val): 0.603\tAccuracy: 0.73 \tAccuracy (val): 0.68\n"
     ]
    }
   ],
   "source": [
    "# YOUR CODE HERE\n",
    "class CatDogDeeperClassifierNetwork(nn.Module):\n",
    "    def __init__(self):\n",
    "        super().__init__()\n",
    "        #Conv-layers\n",
    "        self.conv1 = nn.Conv2d(in_channels=3, out_channels=20, kernel_size=5)\n",
    "        self.bn1 = nn.BatchNorm2d(20)\n",
    "        \n",
    "        self.conv2 = nn.Conv2d(in_channels=20, out_channels=40, kernel_size=3)\n",
    "        self.bn2 = nn.BatchNorm2d(40)\n",
    "        \n",
    "        self.conv3 = nn.Conv2d(in_channels=40, out_channels=40, kernel_size=3)\n",
    "        self.bn3 = nn.BatchNorm2d(40)\n",
    "        \n",
    "        self.drop = nn.Dropout(p = 0.35)\n",
    "        \n",
    "        #FC-classifier layers\n",
    "        self.fc1 = nn.Linear(6*6*40, 100)\n",
    "        self.fc2 = nn.Linear(100, 2)\n",
    "        \n",
    "    def forward(self, x):\n",
    "        #Conv-layers 3x(conv-ReLU-BatchNorm-Dropout)\n",
    "        x = F.relu(self.conv1(x))\n",
    "        x = self.bn1(x)\n",
    "        x = F.max_pool2d(x, kernel_size=2)\n",
    "        x = self.drop(x)\n",
    "        \n",
    "        x = F.relu(self.conv2(x))\n",
    "        x = self.bn2(x)\n",
    "        x = F.max_pool2d(x, kernel_size=2)\n",
    "        x = self.drop(x)\n",
    "        \n",
    "        x = F.relu(self.conv3(x))\n",
    "        x = self.bn3(x)\n",
    "        x = F.max_pool2d(x, kernel_size=2)\n",
    "        x = self.drop(x)\n",
    "        \n",
    "        #Print here to check size before FC layers\n",
    "        #print(x.size())\n",
    "        \n",
    "        x = x.view(-1, 6*6*40)\n",
    "        x = self.drop(x)\n",
    "        \n",
    "        #FC-classifier layers\n",
    "        x = F.relu(self.fc1(x))\n",
    "        x = self.fc2(x)\n",
    "        \n",
    "        return x\n",
    "\n",
    "\n",
    "# Training code\n",
    "model = CatDogDeeperClassifierNetwork()\n",
    "loss_fn = nn.CrossEntropyLoss()\n",
    "optimizer = optim.Adam(model.parameters(), lr=0.005)\n",
    "\n",
    "device = torch.device(\"cuda\" if torch.cuda.is_available() \n",
    "                                  else \"cpu\")\n",
    "\n",
    "model.to(device)\n",
    "\n",
    "#Quick switch epochs\n",
    "epochs = 10\n",
    "\n",
    "# Create arrays to save all of the metrics throughout training\n",
    "train_losses_mod = []\n",
    "val_losses_mod = []\n",
    "train_accs_mod = []\n",
    "val_accs_mod = []\n",
    "\n",
    "# Train the model\n",
    "#for epoch in tqdm(range(epochs)):\n",
    "for epoch in range(epochs):\n",
    "    print('------ Epoch {} ------'.format(epoch))\n",
    "    \n",
    "    #Train one epoch\n",
    "    train_accuracy, train_avg_loss, val_accuracy, val_avg_loss = evaluate_epoch(train_data_loader, val_data_loader, model, loss_fn, optimizer)\n",
    "    \n",
    "    #Store metrics in arrays\n",
    "    train_losses_mod.append(train_avg_loss)\n",
    "    train_accs_mod.append(train_accuracy)\n",
    "    \n",
    "    val_losses_mod.append(val_avg_loss)\n",
    "    val_accs_mod.append(val_accuracy)\n",
    "    \n",
    "    \n",
    "    # Display metrics\n",
    "    display_str = 'Epoch {} '\n",
    "    display_str += '\\tLoss: {:.3f} '\n",
    "    display_str += '\\tLoss (val): {:.3f}'\n",
    "    display_str += '\\tAccuracy: {:.2f} '\n",
    "    display_str += '\\tAccuracy (val): {:.2f}'\n",
    "    print(display_str.format(epoch, train_avg_loss, val_avg_loss, train_accuracy, val_accuracy))\n",
    "    "
   ]
  },
  {
   "cell_type": "markdown",
   "metadata": {
    "deletable": false,
    "editable": false,
    "nbgrader": {
     "cell_type": "markdown",
     "checksum": "ba6a43ffd69fce436811d9311aedcede",
     "grade": false,
     "grade_id": "cell-d033937b5a8b9875",
     "locked": true,
     "schema_version": 3,
     "solution": false
    }
   },
   "source": [
    "Create two plots. In one of them, plot the loss in the training and the validation datasets. In the other one, plot the accuracy in the training and validation datasets."
   ]
  },
  {
   "cell_type": "code",
   "execution_count": 15,
   "metadata": {
    "deletable": false,
    "nbgrader": {
     "cell_type": "code",
     "checksum": "88f944698dc9dc353e1933fe16b6de87",
     "grade": true,
     "grade_id": "cell-3df999674672de47",
     "locked": false,
     "points": 0,
     "schema_version": 3,
     "solution": true
    }
   },
   "outputs": [
    {
     "data": {
      "image/png": "[encoded data removed]",
      "text/plain": [
       "<Figure size 864x432 with 2 Axes>"
      ]
     },
     "metadata": {
      "needs_background": "light"
     },
     "output_type": "display_data"
    }
   ],
   "source": [
    "# YOUR CODE HERE\n",
    "%matplotlib inline\n",
    "fig, ax = plt.subplots(ncols=2, figsize=(12,6))\n",
    "plt.ion()\n",
    "\n",
    "ax[0].clear()\n",
    "ax[0].plot(train_losses_mod)\n",
    "ax[0].plot(val_losses_mod)\n",
    "\n",
    "ax[1].clear()\n",
    "ax[1].plot(train_accs_mod)\n",
    "ax[1].plot(val_accs_mod)\n",
    "\n",
    "# Add legends and labels\n",
    "ax[0].set_title('Loss')\n",
    "ax[0].set_xlabel('Number of Epochs')\n",
    "ax[0].legend(['Train', 'Validation'])\n",
    "\n",
    "ax[1].set_title('Accuracy')\n",
    "ax[1].set_xlabel('Number of Epochs')\n",
    "ax[1].legend(['Train', 'Validation'])\n",
    "ax[1].set_ylim([0,1])\n",
    "\n",
    "# Draw the figure on the screen\n",
    "fig.canvas.draw()"
   ]
  },
  {
   "cell_type": "markdown",
   "metadata": {
    "deletable": false,
    "editable": false,
    "nbgrader": {
     "cell_type": "markdown",
     "checksum": "79d9c109d0360f12011edaf01804bb44",
     "grade": false,
     "grade_id": "cell-a827c39d9e652e52",
     "locked": true,
     "schema_version": 3,
     "solution": false,
     "task": false
    }
   },
   "source": [
    "**(2 POE)** Did your results improve? What problems did your improvements fix? Explain why, or why not. "
   ]
  },
  {
   "cell_type": "markdown",
   "metadata": {
    "deletable": false,
    "nbgrader": {
     "cell_type": "markdown",
     "checksum": "951f6d4450c82df3800e38edd678a422",
     "grade": true,
     "grade_id": "cell-cbda4b585ad39ddc",
     "locked": false,
     "points": 2,
     "schema_version": 3,
     "solution": true,
     "task": false
    }
   },
   "source": [
    "**Your answer:** As explained before, the overfitting has been mitigated by the dropout and size changes. Overall it indicates that the classification task does not neccessarily require a very large amount of features.\n",
    "The validation loss seems to hover around 0.6 but does not seem to trend upwards which would indicate overfitting. \n",
    "\n",
    "The batch normalization has increased the convergence rate so that we now have better accuracy already after the first epoch in comparison to the previous network. "
   ]
  },
  {
   "cell_type": "markdown",
   "metadata": {
    "deletable": false,
    "editable": false,
    "nbgrader": {
     "cell_type": "markdown",
     "checksum": "c06074522725240265e2182d83fda4e2",
     "grade": false,
     "grade_id": "cell-c67bcc4fbec1808e",
     "locked": true,
     "schema_version": 3,
     "solution": false
    }
   },
   "source": [
    "[Save your model](https://pytorch.org/tutorials/beginner/saving_loading_models.html) to disk (the architecture, weights and optimizer state). This is simply so you can use it again easily in the later parts of the notebook, without having to keep it in memory or re-training it. The actual file you create is not relevant to your submission. The code to save the model is given in the cell below. "
   ]
  },
  {
   "cell_type": "code",
   "execution_count": 16,
   "metadata": {},
   "outputs": [],
   "source": [
    "# Assuming that you called your model \"my_model\"\n",
    "torch.save(model.state_dict(), \"my_model\")"
   ]
  },
  {
   "cell_type": "markdown",
   "metadata": {
    "deletable": false,
    "editable": false,
    "nbgrader": {
     "cell_type": "markdown",
     "checksum": "ceb570afa39d746b3b5f132ecb5bc72e",
     "grade": false,
     "grade_id": "cell-25f9cc8d17491d0d",
     "locked": true,
     "schema_version": 3,
     "solution": false
    }
   },
   "source": [
    "---\n",
    "## 4. Transfer Learning"
   ]
  },
  {
   "cell_type": "markdown",
   "metadata": {
    "deletable": false,
    "editable": false,
    "nbgrader": {
     "cell_type": "markdown",
     "checksum": "209c5d113dd1805f4e44dbebc1192473",
     "grade": false,
     "grade_id": "cell-cf9b347fc3ee9255",
     "locked": true,
     "schema_version": 3,
     "solution": false
    }
   },
   "source": [
    "**From now, training on CPU will not be feasible. If your computer has a GPU, try it out! Otherwise, now is the time to connect to your cloud instance**\n",
    "\n",
    "Now, instead of trying to come up with a good architecture for this task, we'll use the VGG16 architecture, but with the top layers removed (the fully connected layers + softmax). We'll substitute them with a single fully connected layer, and a classification layer that makes sense for our problem.\n",
    "\n",
    "However, this model has a very high capacity, and will probably suffer a lot from overfitting if we try to train it from scratch, using only our small subset of data. Instead, we'll start the optimization with the weights obtained after training VGG16 on the ImageNet dataset.\n",
    "\n",
    "Start by loading the *pretrained* VGG16 model, from the [torchvision.models](https://pytorch.org/docs/stable/torchvision/models.html)."
   ]
  },
  {
   "cell_type": "code",
   "execution_count": 17,
   "metadata": {
    "deletable": false,
    "nbgrader": {
     "cell_type": "code",
     "checksum": "984428d972274a469334141d07c8666a",
     "grade": true,
     "grade_id": "cell-01ebc4c9c306b985",
     "locked": false,
     "points": 0,
     "schema_version": 3,
     "solution": true
    }
   },
   "outputs": [],
   "source": [
    "# YOUR CODE HERE\n",
    "vgg_model = models.vgg16(pretrained=True, progress=True)\n",
    "\n",
    "#Pre processing, VGG takes in images of size 224x224, thus we have to reload our data to fit it better.\n",
    "batch_size = 64\n",
    "pic_size = (224, 224)\n",
    "trans_vec_VGG = transforms.Compose([transforms.Resize(pic_size), \n",
    "                                transforms.ToTensor(), \n",
    "                                transforms.Normalize(mean=[0.485, 0.456, 0.406],\n",
    "                                                     std=[0.229, 0.224, 0.225])])\n",
    "\n",
    "small_train_IF_VGG = datasets.ImageFolder(Path(small_train_path), transform = trans_vec_VGG)\n",
    "small_val_IF_VGG = datasets.ImageFolder(Path(small_val_path), transform = trans_vec_VGG)\n",
    "\n",
    "#Dataloading\n",
    "dl_train_small_VGG = DataLoader(small_train_IF_VGG, batch_size = batch_size, shuffle = True, num_workers = 0)\n",
    "dl_val_small_VGG = DataLoader(small_val_IF_VGG, batch_size = 16, shuffle = False, num_workers = 0)\n",
    "\n",
    "# Redefine the datasets so the helper functions still work\n",
    "val_dataset = small_val_IF_VGG\n",
    "train_dataset = small_train_IF_VGG"
   ]
  },
  {
   "cell_type": "markdown",
   "metadata": {
    "deletable": false,
    "editable": false,
    "nbgrader": {
     "cell_type": "markdown",
     "checksum": "f04d97f938d6f944741d657a0350e9da",
     "grade": false,
     "grade_id": "cell-faed8047ef25a60d",
     "locked": true,
     "schema_version": 3,
     "solution": false
    }
   },
   "source": [
    "Create a new model with the layers you want to add on top of VGG.\n",
    "\n",
    "*Hint:*\n",
    "- You can access and modify the top layers of the VGG model with `vgg_model.classifier`, and the remaining layers with `vgg_model.features`.\n",
    "- You can get the number of output features of `vgg_model.features` with `vgg_model.classifier[0].in_features`"
   ]
  },
  {
   "cell_type": "code",
   "execution_count": 18,
   "metadata": {
    "deletable": false,
    "nbgrader": {
     "cell_type": "code",
     "checksum": "62829c2400b8ae993b346dd1a4ca68c0",
     "grade": true,
     "grade_id": "cell-56cb37360051a638",
     "locked": false,
     "points": 0,
     "schema_version": 3,
     "solution": true
    }
   },
   "outputs": [],
   "source": [
    "# YOUR CODE HERE\n",
    "#Get sizes of features\n",
    "num_features_0_in = vgg_model.classifier[0].in_features\n",
    "# Delete layers\n",
    "for i in range(8):\n",
    "    features = list(vgg_model.classifier.children())[:-i]\n",
    "    \n",
    "# Add a new layer\n",
    "features.extend([nn.Linear(num_features_0_in , 2)])"
   ]
  },
  {
   "cell_type": "markdown",
   "metadata": {
    "deletable": false,
    "editable": false,
    "nbgrader": {
     "cell_type": "markdown",
     "checksum": "4e10f4a98f6a80e4e74c0d5bf18dbc5f",
     "grade": false,
     "grade_id": "cell-d746f9eb61e3ea44",
     "locked": true,
     "schema_version": 3,
     "solution": false
    }
   },
   "source": [
    "Now add the new model on top of VGG."
   ]
  },
  {
   "cell_type": "code",
   "execution_count": 19,
   "metadata": {
    "deletable": false,
    "nbgrader": {
     "cell_type": "code",
     "checksum": "642f3cbea497868385adff16643091c4",
     "grade": true,
     "grade_id": "cell-76e4aad7fbcf5d05",
     "locked": false,
     "points": 0,
     "schema_version": 3,
     "solution": true
    }
   },
   "outputs": [
    {
     "name": "stdout",
     "output_type": "stream",
     "text": [
      "Sequential(\n",
      "  (0): Linear(in_features=25088, out_features=2, bias=True)\n",
      ")\n"
     ]
    }
   ],
   "source": [
    "# YOUR CODE HERE\n",
    "vgg_model.classifier = nn.Sequential(*features)\n",
    "print(vgg_model.classifier)"
   ]
  },
  {
   "cell_type": "markdown",
   "metadata": {
    "deletable": false,
    "editable": false,
    "nbgrader": {
     "cell_type": "markdown",
     "checksum": "0ff2dfca08a9262327d0ee7d0c58b2bd",
     "grade": false,
     "grade_id": "cell-f76d1a7f6280af0d",
     "locked": true,
     "schema_version": 3,
     "solution": false
    }
   },
   "source": [
    "### 4.1 Using VGG features"
   ]
  },
  {
   "cell_type": "markdown",
   "metadata": {
    "deletable": false,
    "editable": false,
    "nbgrader": {
     "cell_type": "markdown",
     "checksum": "78c524d5ed4e56c277ae5812e83d797d",
     "grade": false,
     "grade_id": "cell-270f8ec140ddfba3",
     "locked": true,
     "schema_version": 3,
     "solution": false
    }
   },
   "source": [
    "Now we're almost ready to train the new model. However, since the top layers of this architecture are being initialized randomly, it's sometimes possible for them to generate large gradients that can wreck the pretraining of the bottom layers. To avoid this, freeze all the VGG layers in your architecture (i.e. signal to the optimizer that these should not be changed during optimization) by setting the attribute `requires_grad` for all parameters `vgg_model.features` to `False`."
   ]
  },
  {
   "cell_type": "code",
   "execution_count": 20,
   "metadata": {
    "deletable": false,
    "nbgrader": {
     "cell_type": "code",
     "checksum": "b460fd8c5e4c535489d896457d6b22e0",
     "grade": true,
     "grade_id": "cell-bfb58ea46c31df0a",
     "locked": false,
     "points": 0,
     "schema_version": 3,
     "solution": true
    }
   },
   "outputs": [],
   "source": [
    "# Freeze bottom\n",
    "# YOUR CODE HERE\n",
    "for feature in vgg_model.features:\n",
    "    feature.requires_grad = False"
   ]
  },
  {
   "cell_type": "markdown",
   "metadata": {
    "deletable": false,
    "editable": false,
    "nbgrader": {
     "cell_type": "markdown",
     "checksum": "d306e1a138f63e8c8c5eb90707013c9e",
     "grade": false,
     "grade_id": "cell-b508ede3d760a86b",
     "locked": true,
     "schema_version": 3,
     "solution": false
    }
   },
   "source": [
    "Perform the transfer learning by training the top layers of your model."
   ]
  },
  {
   "cell_type": "code",
   "execution_count": 21,
   "metadata": {
    "deletable": false,
    "nbgrader": {
     "cell_type": "code",
     "checksum": "4f0d719703f2da49ac4b86f4480c5080",
     "grade": true,
     "grade_id": "cell-5a025e60545ca151",
     "locked": false,
     "points": 0,
     "schema_version": 3,
     "solution": true
    }
   },
   "outputs": [
    {
     "name": "stdout",
     "output_type": "stream",
     "text": [
      "------ Epoch 0 ------\n",
      "Epoch 0 \tLoss: 0.116 \tLoss (val): 0.049\tAccuracy: 0.96 \tAccuracy (val): 0.99\n",
      "------ Epoch 1 ------\n",
      "Epoch 1 \tLoss: 0.013 \tLoss (val): 0.068\tAccuracy: 1.00 \tAccuracy (val): 0.98\n",
      "------ Epoch 2 ------\n",
      "Epoch 2 \tLoss: 0.007 \tLoss (val): 0.068\tAccuracy: 1.00 \tAccuracy (val): 0.99\n",
      "------ Epoch 3 ------\n",
      "Epoch 3 \tLoss: 0.021 \tLoss (val): 0.056\tAccuracy: 0.99 \tAccuracy (val): 0.99\n",
      "------ Epoch 4 ------\n",
      "Epoch 4 \tLoss: 0.014 \tLoss (val): 0.048\tAccuracy: 0.99 \tAccuracy (val): 0.99\n"
     ]
    }
   ],
   "source": [
    "model = vgg_model\n",
    "loss_fn = nn.CrossEntropyLoss()\n",
    "optimizer = optim.Adam(model.parameters(), lr=0.0001)\n",
    "\n",
    "#Assume CUDA to be available.\n",
    "device = torch.device(\"cuda\") \n",
    "\n",
    "model.to(device)\n",
    "\n",
    "#Quick switch epochs\n",
    "epochs = 5\n",
    "\n",
    "# Create arrays to save all of the metrics throughout training\n",
    "train_losses_vgg = []\n",
    "val_losses_vgg = []\n",
    "train_accs_vgg = []\n",
    "val_accs_vgg = []\n",
    "\n",
    "# Train the model\n",
    "\n",
    "#for epoch in tqdm(range(epochs)):\n",
    "for epoch in range(epochs):\n",
    "    print('------ Epoch {} ------'.format(epoch))\n",
    "    \n",
    "    #Train one epoch\n",
    "    train_accuracy, train_avg_loss, val_accuracy, val_avg_loss = evaluate_epoch(dl_train_small_VGG, \n",
    "                                                                                dl_val_small_VGG, \n",
    "                                                                                model, \n",
    "                                                                                loss_fn, \n",
    "                                                                                optimizer)\n",
    "    \n",
    "    #Store metrics in arrays\n",
    "    train_losses_vgg.append(train_avg_loss)\n",
    "    train_accs_vgg.append(train_accuracy)\n",
    "    \n",
    "    val_losses_vgg.append(val_avg_loss)\n",
    "    val_accs_vgg.append(val_accuracy)\n",
    "    \n",
    "    \n",
    "    # Display metrics\n",
    "    display_str = 'Epoch {} '\n",
    "    display_str += '\\tLoss: {:.3f} '\n",
    "    display_str += '\\tLoss (val): {:.3f}'\n",
    "    display_str += '\\tAccuracy: {:.2f} '\n",
    "    display_str += '\\tAccuracy (val): {:.2f}'\n",
    "    print(display_str.format(epoch, train_avg_loss, val_avg_loss, train_accuracy, val_accuracy))"
   ]
  },
  {
   "cell_type": "markdown",
   "metadata": {
    "deletable": false,
    "editable": false,
    "nbgrader": {
     "cell_type": "markdown",
     "checksum": "34bf11c4a55f184ccc7d589c841b0be2",
     "grade": false,
     "grade_id": "cell-ad79e1aa5c4a6185",
     "locked": true,
     "schema_version": 3,
     "solution": false
    }
   },
   "source": [
    "Create two plots. In one of them, plot the loss in the training and the validation datasets. In the other one, plot the accuracy in the training and validation datasets."
   ]
  },
  {
   "cell_type": "code",
   "execution_count": 22,
   "metadata": {
    "deletable": false,
    "nbgrader": {
     "cell_type": "code",
     "checksum": "99986b7bbdfb6b78c25112751969d11f",
     "grade": true,
     "grade_id": "cell-f17c882b2a09dee7",
     "locked": false,
     "points": 0,
     "schema_version": 3,
     "solution": true
    }
   },
   "outputs": [
    {
     "data": {
      "image/png": "[encoded data removed]",
      "text/plain": [
       "<Figure size 864x432 with 2 Axes>"
      ]
     },
     "metadata": {
      "needs_background": "light"
     },
     "output_type": "display_data"
    }
   ],
   "source": [
    "# YOUR CODE HERE\n",
    "fig, ax = plt.subplots(ncols=2, figsize=(12,6))\n",
    "plt.ion()\n",
    "\n",
    "ax[0].clear()\n",
    "ax[0].plot(train_losses_vgg)\n",
    "ax[0].plot(val_losses_vgg)\n",
    "\n",
    "ax[1].clear()\n",
    "ax[1].plot(train_accs_vgg)\n",
    "ax[1].plot(val_accs_vgg)\n",
    "\n",
    "# Add legends and labels\n",
    "ax[0].set_title('Loss')\n",
    "ax[0].set_xlabel('Number of Epochs')\n",
    "ax[0].legend(['Train', 'Validation'])\n",
    "\n",
    "ax[1].set_title('Accuracy')\n",
    "ax[1].set_xlabel('Number of Epochs')\n",
    "ax[1].legend(['Train', 'Validation'])\n",
    "ax[1].set_ylim([0,1])\n",
    "\n",
    "# Draw the figure on the screen\n",
    "fig.canvas.draw()"
   ]
  },
  {
   "cell_type": "markdown",
   "metadata": {
    "deletable": false,
    "editable": false,
    "nbgrader": {
     "cell_type": "markdown",
     "checksum": "8c4634579a40b62a3db715b027fbd80a",
     "grade": false,
     "grade_id": "cell-779d477ffe1ebbf6",
     "locked": true,
     "schema_version": 3,
     "solution": false
    }
   },
   "source": [
    "How does the model perform, compared to the model obtained in step 3? Create one plot with the training accuracy and another with the validation accuracy of the two scenarios."
   ]
  },
  {
   "cell_type": "code",
   "execution_count": 23,
   "metadata": {
    "deletable": false,
    "nbgrader": {
     "cell_type": "code",
     "checksum": "873c045fa2e6f22815a90194ed2785f3",
     "grade": true,
     "grade_id": "cell-e3e3990ba39bea67",
     "locked": false,
     "points": 0,
     "schema_version": 3,
     "solution": true
    }
   },
   "outputs": [
    {
     "data": {
      "image/png": "[encoded data removed]",
      "text/plain": [
       "<Figure size 864x432 with 2 Axes>"
      ]
     },
     "metadata": {
      "needs_background": "light"
     },
     "output_type": "display_data"
    }
   ],
   "source": [
    "# YOUR CODE HERE\n",
    "fig, ax = plt.subplots(ncols=2, figsize=(12,6))\n",
    "plt.ion()\n",
    "\n",
    "ax[0].clear()\n",
    "ax[0].plot(train_accs_vgg)\n",
    "ax[0].plot(train_accs_mod)\n",
    "\n",
    "ax[1].clear()\n",
    "ax[1].plot(val_accs_vgg)\n",
    "ax[1].plot(val_accs_mod)\n",
    "\n",
    "# Add legends and labels\n",
    "ax[0].set_title('Training Accuracy')\n",
    "ax[0].set_xlabel('Number of Epochs')\n",
    "ax[0].legend(['vgg', 'mod'])\n",
    "\n",
    "ax[1].set_title('Validation Accuracy')\n",
    "ax[1].set_xlabel('Number of Epochs')\n",
    "ax[1].legend(['vgg', 'mod'])\n",
    "ax[1].set_ylim([0,1])\n",
    "\n",
    "# Draw the figure on the screen\n",
    "fig.canvas.draw()"
   ]
  },
  {
   "cell_type": "markdown",
   "metadata": {
    "deletable": false,
    "editable": false,
    "nbgrader": {
     "cell_type": "markdown",
     "checksum": "9eb35f2f008149a41dee4dd98bb8007c",
     "grade": false,
     "grade_id": "cell-b84dd461d5ddcc8d",
     "locked": true,
     "schema_version": 3,
     "solution": false
    }
   },
   "source": [
    "**(2 POE)** Compare these results. Which approach worked best, starting from scratch or doing transfer learning? Reflect on whether your comparison is fair or not:"
   ]
  },
  {
   "cell_type": "markdown",
   "metadata": {
    "deletable": false,
    "nbgrader": {
     "cell_type": "markdown",
     "checksum": "dce3df56e420472eafb032186728064f",
     "grade": true,
     "grade_id": "cell-f9e1a6a643946cd2",
     "locked": false,
     "points": 2,
     "schema_version": 3,
     "solution": true
    }
   },
   "source": [
    "**Your answer:** As expected, VGG worked better for this classification task, since the network is already trained for many classes, including cats and dogs, it is already a very good classifier. Thus using transfer learning for a classification task where the desired classes are a subset of the pretrained classes is shown to be very effective in comparison to starting from scratch each time. \n",
    "\n",
    "As for the fairness of the comparison, the argument could be made that the smaller network performs admirably given its size. In addition, it is also able to be trained on a CPU with decent performance for the smaller dataset. "
   ]
  },
  {
   "cell_type": "markdown",
   "metadata": {
    "deletable": false,
    "editable": false,
    "nbgrader": {
     "cell_type": "markdown",
     "checksum": "746937de51331942cb10b63d8892f29e",
     "grade": false,
     "grade_id": "cell-c8afb448c67da5f8",
     "locked": true,
     "schema_version": 3,
     "solution": false
    }
   },
   "source": [
    "**(1 POE)** What are the main differences between the ImageNet dataset and the Dogs vs Cats dataset we used?"
   ]
  },
  {
   "cell_type": "markdown",
   "metadata": {
    "deletable": false,
    "nbgrader": {
     "cell_type": "markdown",
     "checksum": "4e1152bb9b59ad5cb8016d3ebe648e97",
     "grade": true,
     "grade_id": "cell-2be321b63232ae01",
     "locked": false,
     "points": 1,
     "schema_version": 3,
     "solution": true
    }
   },
   "source": [
    "**Your answer:** ImageNet dataset contains many more classes than the two we have, and instead of including broad classes like \"cat\" and \"dog\", it contains classes for specific breeds."
   ]
  },
  {
   "cell_type": "markdown",
   "metadata": {
    "deletable": false,
    "editable": false,
    "nbgrader": {
     "cell_type": "markdown",
     "checksum": "4abd95aa268f813d682dd372f5f46839",
     "grade": false,
     "grade_id": "cell-71a8b8de004f6e57",
     "locked": true,
     "schema_version": 3,
     "solution": false
    }
   },
   "source": [
    "**Optional (2 POE)** Even though there are considerable differences between these datasets, why is it that transfer learning is still a good idea?"
   ]
  },
  {
   "cell_type": "markdown",
   "metadata": {
    "deletable": false,
    "nbgrader": {
     "cell_type": "markdown",
     "checksum": "9605a949f6c6b94fac8feb5a6bcbbcad",
     "grade": true,
     "grade_id": "cell-655d00face15a862",
     "locked": false,
     "points": 2,
     "schema_version": 3,
     "solution": true
    }
   },
   "source": [
    "**Your answer:** Since the network has already been trained to classify a large dataset with a very high level of specificity, the output from the network before the classifier should already be fairly ordered. That is, the subset of features describing different dog and cat breeds should be more than enough to classify them from one another. Our modified classifier can thus quickly disregard many of its inputs and quickly converge to a very high accuracy and low loss."
   ]
  },
  {
   "cell_type": "markdown",
   "metadata": {
    "deletable": false,
    "editable": false,
    "nbgrader": {
     "cell_type": "markdown",
     "checksum": "988d32c37c7135943f9775a37a511973",
     "grade": false,
     "grade_id": "cell-19785940b9624d2c",
     "locked": true,
     "schema_version": 3,
     "solution": false
    }
   },
   "source": [
    "**Optional (1 POE)** In which scenario would transfer learning be unsuitable?"
   ]
  },
  {
   "cell_type": "markdown",
   "metadata": {
    "deletable": false,
    "nbgrader": {
     "cell_type": "markdown",
     "checksum": "ce818a8e86ceb511348597d975b34016",
     "grade": true,
     "grade_id": "cell-e79df7472ff5506a",
     "locked": false,
     "points": 1,
     "schema_version": 3,
     "solution": true
    }
   },
   "source": [
    "**Your answer:** Going the other way, that is training on a smaller dataset, with fewer classes and/or datapoints would be a very bad idea. Since the network would have to be retrained for the newer larger dataset, any benefit of transfer learning is lost. \n",
    "Similarly, using transfer learning in a case where the datasets are completely different would be unsuitable as the classes may be very different, thus the network may have to be retrained to better fit the new data. "
   ]
  },
  {
   "cell_type": "markdown",
   "metadata": {
    "deletable": false,
    "editable": false,
    "nbgrader": {
     "cell_type": "markdown",
     "checksum": "b24258079f4e71e1842b78e479095117",
     "grade": false,
     "grade_id": "cell-111f2b1d28919293",
     "locked": true,
     "schema_version": 3,
     "solution": false
    }
   },
   "source": [
    "Save the model to a file."
   ]
  },
  {
   "cell_type": "code",
   "execution_count": 24,
   "metadata": {},
   "outputs": [],
   "source": [
    "torch.save(vgg_model.state_dict(), \"trans_learning_top_only\")"
   ]
  },
  {
   "cell_type": "markdown",
   "metadata": {
    "deletable": false,
    "editable": false,
    "nbgrader": {
     "cell_type": "markdown",
     "checksum": "ab5bf17534c2ac6852d79e32793fdbf7",
     "grade": false,
     "grade_id": "cell-544a73726bebe121",
     "locked": true,
     "schema_version": 3,
     "solution": false
    }
   },
   "source": [
    "### 4.2 Fine-tuning"
   ]
  },
  {
   "cell_type": "markdown",
   "metadata": {
    "deletable": false,
    "editable": false,
    "nbgrader": {
     "cell_type": "markdown",
     "checksum": "54080ee12529dc9ec0d2a887cc564243",
     "grade": false,
     "grade_id": "cell-1ee9ebc87fd3358e",
     "locked": true,
     "schema_version": 3,
     "solution": false
    }
   },
   "source": [
    "Now that we have a better starting point for the top layers, we can train the entire network. Unfreeze the bottom layers by resetting the `requires_grad` attribute to `True`."
   ]
  },
  {
   "cell_type": "code",
   "execution_count": 25,
   "metadata": {
    "deletable": false,
    "nbgrader": {
     "cell_type": "code",
     "checksum": "5fa86d1e45984112d3d27953e63d312e",
     "grade": true,
     "grade_id": "cell-3918c2cdd9817f7e",
     "locked": false,
     "points": 0,
     "schema_version": 3,
     "solution": true
    }
   },
   "outputs": [],
   "source": [
    "# UnFreeze bottom\n",
    "# YOUR CODE HERE\n",
    "for feature in vgg_model.features:\n",
    "    feature.requires_grad = True"
   ]
  },
  {
   "cell_type": "markdown",
   "metadata": {
    "deletable": false,
    "editable": false,
    "nbgrader": {
     "cell_type": "markdown",
     "checksum": "c7437f0a564e0430e81490cf7c2dc9a5",
     "grade": false,
     "grade_id": "cell-80fa8c89f1b262f1",
     "locked": true,
     "schema_version": 3,
     "solution": false
    }
   },
   "source": [
    "Fine tune the model by training all the layers.\n",
    "\n",
    "Hint:\n",
    "- Even though we do have a decent starting point for the optimization, it's still possible that a bad hyper-parameter choice wrecks the preinitialization. Make sure to use a small learning rate for this step."
   ]
  },
  {
   "cell_type": "code",
   "execution_count": 26,
   "metadata": {
    "deletable": false,
    "nbgrader": {
     "cell_type": "code",
     "checksum": "71ce705f916d83ecec507903ac4a4c64",
     "grade": true,
     "grade_id": "cell-594c6039216461e5",
     "locked": false,
     "points": 0,
     "schema_version": 3,
     "solution": true
    }
   },
   "outputs": [
    {
     "name": "stdout",
     "output_type": "stream",
     "text": [
      "------ Epoch 0 ------\n",
      "Epoch 0 \tLoss: 0.001 \tLoss (val): 0.049\tAccuracy: 1.00 \tAccuracy (val): 0.99\n",
      "------ Epoch 1 ------\n",
      "Epoch 1 \tLoss: 0.000 \tLoss (val): 0.054\tAccuracy: 1.00 \tAccuracy (val): 0.99\n",
      "------ Epoch 2 ------\n",
      "Epoch 2 \tLoss: 0.000 \tLoss (val): 0.056\tAccuracy: 1.00 \tAccuracy (val): 0.99\n",
      "------ Epoch 3 ------\n",
      "Epoch 3 \tLoss: 0.000 \tLoss (val): 0.057\tAccuracy: 1.00 \tAccuracy (val): 0.99\n",
      "------ Epoch 4 ------\n",
      "Epoch 4 \tLoss: 0.000 \tLoss (val): 0.059\tAccuracy: 1.00 \tAccuracy (val): 0.99\n"
     ]
    }
   ],
   "source": [
    "model = vgg_model\n",
    "loss_fn = nn.CrossEntropyLoss()\n",
    "optimizer = optim.Adam(model.parameters(), lr=0.00001)\n",
    "\n",
    "device = torch.device(\"cuda\")\n",
    "model.to(device)\n",
    "\n",
    "#Quick switch epochs\n",
    "epochs = 5\n",
    "\n",
    "# Create arrays to save all of the metrics throughout training\n",
    "train_losses_vgg_UnFreeze = []\n",
    "val_losses_vgg_UnFreeze = []\n",
    "train_accs_vgg_UnFreeze = []\n",
    "val_accs_vgg_UnFreeze = []\n",
    "\n",
    "# Train the model\n",
    "\n",
    "#for epoch in tqdm(range(epochs)):\n",
    "for epoch in range(epochs):\n",
    "    print('------ Epoch {} ------'.format(epoch))\n",
    "    \n",
    "    #Train one epoch\n",
    "    train_accuracy, train_avg_loss, val_accuracy, val_avg_loss = evaluate_epoch(dl_train_small_VGG, \n",
    "                                                                                dl_val_small_VGG, \n",
    "                                                                                model, \n",
    "                                                                                loss_fn, \n",
    "                                                                                optimizer)\n",
    "    \n",
    "    \n",
    "    #Store metrics in arrays\n",
    "    train_losses_vgg_UnFreeze.append(train_avg_loss)\n",
    "    train_accs_vgg_UnFreeze.append(train_accuracy)\n",
    "    \n",
    "    val_losses_vgg_UnFreeze.append(val_avg_loss)\n",
    "    val_accs_vgg_UnFreeze.append(val_accuracy)\n",
    "    \n",
    "    \n",
    "    # Display metrics\n",
    "    display_str = 'Epoch {} '\n",
    "    display_str += '\\tLoss: {:.3f} '\n",
    "    display_str += '\\tLoss (val): {:.3f}'\n",
    "    display_str += '\\tAccuracy: {:.2f} '\n",
    "    display_str += '\\tAccuracy (val): {:.2f}'\n",
    "    print(display_str.format(epoch, train_avg_loss, val_avg_loss, train_accuracy, val_accuracy))\n",
    "     "
   ]
  },
  {
   "cell_type": "markdown",
   "metadata": {
    "deletable": false,
    "editable": false,
    "nbgrader": {
     "cell_type": "markdown",
     "checksum": "de73952e2230136bd52c1c3b2c590896",
     "grade": false,
     "grade_id": "cell-5dc3e388a41da3ed",
     "locked": true,
     "schema_version": 3,
     "solution": false
    }
   },
   "source": [
    "How does the model perform, compared to the model trained with frozen layers? Create one plot with the training accuracy and another with the validation accuracy of the two scenarios."
   ]
  },
  {
   "cell_type": "code",
   "execution_count": 27,
   "metadata": {
    "deletable": false,
    "nbgrader": {
     "cell_type": "code",
     "checksum": "b7b2e69e2ffc7f5bff07ba62225b4cee",
     "grade": true,
     "grade_id": "cell-7edb12ee397ec817",
     "locked": false,
     "points": 0,
     "schema_version": 3,
     "solution": true
    }
   },
   "outputs": [
    {
     "data": {
      "image/png": "[encoded data removed]",
      "text/plain": [
       "<Figure size 576x288 with 2 Axes>"
      ]
     },
     "metadata": {
      "needs_background": "light"
     },
     "output_type": "display_data"
    }
   ],
   "source": [
    "# YOUR CODE HERE\n",
    "fig, ax = plt.subplots(ncols=2, figsize=(8,4))\n",
    "plt.ion()\n",
    "\n",
    "ax[0].clear()\n",
    "ax[0].plot(train_accs_vgg)\n",
    "ax[0].plot(train_accs_vgg_UnFreeze)\n",
    "ax[1].clear()\n",
    "ax[1].plot(val_accs_vgg)\n",
    "ax[1].plot(val_accs_vgg_UnFreeze)\n",
    "\n",
    "# Add legends and labels\n",
    "ax[0].set_title('Training Accuracy')\n",
    "ax[0].set_xlabel('Number of Epochs')\n",
    "ax[0].legend(['vgg', 'vggUnfreeze'])\n",
    "\n",
    "ax[1].set_title('Validation Accuracy')\n",
    "ax[1].set_xlabel('Number of Epochs')\n",
    "ax[1].legend(['vgg', 'vggUnfreeze'])\n",
    "ax[1].set_ylim([0,1])\n",
    "\n",
    "# Draw the figure on the screen\n",
    "fig.canvas.draw()"
   ]
  },
  {
   "cell_type": "markdown",
   "metadata": {
    "deletable": false,
    "editable": false,
    "nbgrader": {
     "cell_type": "markdown",
     "checksum": "23eacf2e2de74dba9a8baf7f4c1c0877",
     "grade": false,
     "grade_id": "cell-5dae528a81d5ff24",
     "locked": true,
     "schema_version": 3,
     "solution": false
    }
   },
   "source": [
    "**(1 POE)** Did the model's performance improve? Why (why not)?"
   ]
  },
  {
   "cell_type": "markdown",
   "metadata": {
    "deletable": false,
    "nbgrader": {
     "cell_type": "markdown",
     "checksum": "69dfca588131944b0e9825a1532de432",
     "grade": true,
     "grade_id": "cell-0f4a5edca490320e",
     "locked": false,
     "points": 1,
     "schema_version": 3,
     "solution": true
    }
   },
   "source": [
    "**Your answer:** Yes, since the network is now being adjusted to better fit the dataset of cats and dogs that we have, rather than the more general ImageNet dataset. In this case, the weights of the earlier convolutional layers are being retrained to better find the features that are necessary to correctly classify cats and dogs."
   ]
  },
  {
   "cell_type": "markdown",
   "metadata": {
    "deletable": false,
    "editable": false,
    "nbgrader": {
     "cell_type": "markdown",
     "checksum": "4971aa0a2e159c1780dedfc5e78b7c15",
     "grade": false,
     "grade_id": "cell-4ed3967e4f6c5f7f",
     "locked": true,
     "schema_version": 3,
     "solution": false
    }
   },
   "source": [
    "Save the model to file."
   ]
  },
  {
   "cell_type": "code",
   "execution_count": 28,
   "metadata": {},
   "outputs": [],
   "source": [
    "torch.save(model.state_dict(), \"trans_learning_full\")"
   ]
  },
  {
   "cell_type": "markdown",
   "metadata": {
    "deletable": false,
    "editable": false,
    "nbgrader": {
     "cell_type": "markdown",
     "checksum": "42d6362e7a0f25fc579ad6e33f1b401b",
     "grade": false,
     "grade_id": "cell-56908ee1e60aa411",
     "locked": true,
     "schema_version": 3,
     "solution": false
    }
   },
   "source": [
    "### 4.3 Improving the top model (optional)"
   ]
  },
  {
   "cell_type": "markdown",
   "metadata": {
    "deletable": false,
    "editable": false,
    "nbgrader": {
     "cell_type": "markdown",
     "checksum": "4f74ac0be60b7253bfe604c521647a07",
     "grade": false,
     "grade_id": "cell-3c8d8e5ab949ee35",
     "locked": true,
     "schema_version": 3,
     "solution": false
    }
   },
   "source": [
    "Improve the architecture for the layers you add on top of VGG16. Try different ideas! When you're happy with one architecture, copy it in the cell below and train it here."
   ]
  },
  {
   "cell_type": "code",
   "execution_count": 29,
   "metadata": {
    "deletable": false,
    "nbgrader": {
     "cell_type": "code",
     "checksum": "4c69b20551001d0e612f3b9221dc7dbc",
     "grade": true,
     "grade_id": "cell-22d09c8401d84b61",
     "locked": false,
     "points": 0,
     "schema_version": 3,
     "solution": true
    }
   },
   "outputs": [],
   "source": [
    "# YOUR CODE HERE\n",
    "vgg_model_temp = models.vgg16(pretrained=True, progress=True)\n",
    "\n",
    "#Get sizes of features\n",
    "num_features_0_in = vgg_model_temp.classifier[0].in_features\n",
    "num_features_6_in = vgg_model_temp.classifier[6].in_features\n",
    "num_features_0_out = vgg_model_temp.classifier[0].out_features\n",
    "\n",
    "# Delete layers\n",
    "\n",
    "features = list(vgg_model.classifier.children())[:0]\n",
    "\n",
    "# Add layers\n",
    "features.extend([nn.Linear(num_features_0_in , num_features_0_out), \n",
    "                 nn.ReLU(inplace=True), \n",
    "                 nn.Dropout(p=0.5, inplace=False), \n",
    "                 nn.Linear(num_features_6_in , 2)])"
   ]
  },
  {
   "cell_type": "markdown",
   "metadata": {
    "deletable": false,
    "editable": false,
    "nbgrader": {
     "cell_type": "markdown",
     "checksum": "8fc346783e0e1a80bd856ca85bf5e744",
     "grade": false,
     "grade_id": "cell-48933baad6c5afeb",
     "locked": true,
     "schema_version": 3,
     "solution": false
    }
   },
   "source": [
    "**(1 POE)** How does the model perform, compared to the model trained in step 4.2? Create one plot with the training accuracy and another with the validation accuracy of the two scenarios."
   ]
  },
  {
   "cell_type": "code",
   "execution_count": 30,
   "metadata": {
    "deletable": false,
    "nbgrader": {
     "cell_type": "code",
     "checksum": "b520759c1ceb8218d203dc9655d25361",
     "grade": true,
     "grade_id": "cell-7cb62a04916a848e",
     "locked": false,
     "points": 1,
     "schema_version": 3,
     "solution": true
    }
   },
   "outputs": [
    {
     "name": "stdout",
     "output_type": "stream",
     "text": [
      "------ Epoch 0 ------\n",
      "Epoch 0 \tLoss: 0.000 \tLoss (val): 0.092\tAccuracy: 1.00 \tAccuracy (val): 0.99\n",
      "------ Epoch 1 ------\n",
      "Epoch 1 \tLoss: 0.000 \tLoss (val): 0.098\tAccuracy: 1.00 \tAccuracy (val): 0.99\n",
      "------ Epoch 2 ------\n",
      "Epoch 2 \tLoss: 0.000 \tLoss (val): 0.099\tAccuracy: 1.00 \tAccuracy (val): 0.99\n",
      "------ Epoch 3 ------\n",
      "Epoch 3 \tLoss: 0.000 \tLoss (val): 0.101\tAccuracy: 1.00 \tAccuracy (val): 0.99\n",
      "------ Epoch 4 ------\n",
      "Epoch 4 \tLoss: 0.000 \tLoss (val): 0.102\tAccuracy: 1.00 \tAccuracy (val): 0.99\n"
     ]
    },
    {
     "data": {
      "image/png": "[encoded data removed]",
      "text/plain": [
       "<Figure size 864x432 with 2 Axes>"
      ]
     },
     "metadata": {
      "needs_background": "light"
     },
     "output_type": "display_data"
    }
   ],
   "source": [
    "# YOUR CODE HERE\n",
    "model = vgg_model\n",
    "loss_fn = nn.CrossEntropyLoss()\n",
    "optimizer = optim.Adam(model.parameters(), lr=0.00001)\n",
    "\n",
    "device = torch.device(\"cuda\")\n",
    "model.to(device)\n",
    "\n",
    "#Quick switch epochs\n",
    "epochs = 5\n",
    "\n",
    "# Create arrays to save all of the metrics throughout training\n",
    "train_losses_vgg_imp = []\n",
    "val_losses_vgg_imp = []\n",
    "train_accs_vgg_imp = []\n",
    "val_accs_vgg_imp = []\n",
    "\n",
    "# Train the model\n",
    "\n",
    "#for epoch in tqdm(range(epochs)):\n",
    "for epoch in range(epochs):\n",
    "    print('------ Epoch {} ------'.format(epoch))\n",
    "    \n",
    "    #Train one epoch\n",
    "    train_accuracy, train_avg_loss, val_accuracy, val_avg_loss = evaluate_epoch(dl_train_small_VGG, \n",
    "                                                                                dl_val_small_VGG, \n",
    "                                                                                model, \n",
    "                                                                                loss_fn, \n",
    "                                                                                optimizer)\n",
    "    \n",
    "    \n",
    "    #Store metrics in arrays\n",
    "    train_losses_vgg_imp.append(train_avg_loss)\n",
    "    train_accs_vgg_imp.append(train_accuracy)\n",
    "    \n",
    "    val_losses_vgg_imp.append(val_avg_loss)\n",
    "    val_accs_vgg_imp.append(val_accuracy)\n",
    "    \n",
    "    \n",
    "    # Display metrics\n",
    "    display_str = 'Epoch {} '\n",
    "    display_str += '\\tLoss: {:.3f} '\n",
    "    display_str += '\\tLoss (val): {:.3f}'\n",
    "    display_str += '\\tAccuracy: {:.2f} '\n",
    "    display_str += '\\tAccuracy (val): {:.2f}'\n",
    "    print(display_str.format(epoch, train_avg_loss, val_avg_loss, train_accuracy, val_accuracy))\n",
    "\n",
    "# Plotting\n",
    "fig, ax = plt.subplots(ncols=2, figsize=(12,6))\n",
    "plt.ion()\n",
    "\n",
    "ax[0].clear()\n",
    "ax[0].plot(train_accs_vgg_imp)\n",
    "ax[0].plot(train_accs_vgg_UnFreeze)\n",
    "ax[1].clear()\n",
    "ax[1].plot(val_accs_vgg_imp)\n",
    "ax[1].plot(val_accs_vgg_UnFreeze)\n",
    "\n",
    "# Add legends and labels\n",
    "ax[0].set_title('Training Accuracy')\n",
    "ax[0].set_xlabel('Number of Epochs')\n",
    "ax[0].legend(['vggBest', 'vggUnfreeze'])\n",
    "\n",
    "ax[1].set_title('Validation Accuracy')\n",
    "ax[1].set_xlabel('Number of Epochs')\n",
    "ax[1].legend(['vggBest', 'vggUnfreeze'])\n",
    "ax[1].set_ylim([0,1])\n",
    "\n",
    "# Draw the figure on the screen\n",
    "fig.canvas.draw()"
   ]
  },
  {
   "cell_type": "markdown",
   "metadata": {
    "deletable": false,
    "editable": false,
    "nbgrader": {
     "cell_type": "markdown",
     "checksum": "84662189498e2454093c4a54a53716d6",
     "grade": false,
     "grade_id": "cell-8bbfa3e11e2dfff9",
     "locked": true,
     "schema_version": 3,
     "solution": false
    }
   },
   "source": [
    "Save the model to a file."
   ]
  },
  {
   "cell_type": "code",
   "execution_count": 31,
   "metadata": {},
   "outputs": [],
   "source": [
    "torch.save(model.state_dict(), \"best_trans_learning\")"
   ]
  },
  {
   "cell_type": "markdown",
   "metadata": {
    "deletable": false,
    "editable": false,
    "nbgrader": {
     "cell_type": "markdown",
     "checksum": "49c722f31cfd70e995b6226c86584565",
     "grade": false,
     "grade_id": "cell-ad0efbac33de5a65",
     "locked": true,
     "schema_version": 3,
     "solution": false
    }
   },
   "source": [
    "## 5. Final training"
   ]
  },
  {
   "cell_type": "markdown",
   "metadata": {
    "deletable": false,
    "editable": false,
    "nbgrader": {
     "cell_type": "markdown",
     "checksum": "6e460754d2c0f05f0e79ae982a3fe3d3",
     "grade": false,
     "grade_id": "cell-cf811afdac96843b",
     "locked": true,
     "schema_version": 3,
     "solution": false
    }
   },
   "source": [
    "Now we'll train the model that achieved the best performance so far using the entire dataset.\n",
    "\n",
    "**Note**: start the optimization with the weights you obtained training in the smaller subset, i.e. *not* from scratch."
   ]
  },
  {
   "cell_type": "markdown",
   "metadata": {
    "deletable": false,
    "editable": false,
    "nbgrader": {
     "cell_type": "markdown",
     "checksum": "4ad8b2d67a68a5afcf4c8645d3070550",
     "grade": false,
     "grade_id": "cell-3ae2a65188e4ac74",
     "locked": true,
     "schema_version": 3,
     "solution": false
    }
   },
   "source": [
    "First, create two new data loaders, one for training samples and one for validation samples. This time, they'll load data from the folders for the entire dataset."
   ]
  },
  {
   "cell_type": "code",
   "execution_count": 32,
   "metadata": {
    "deletable": false,
    "nbgrader": {
     "cell_type": "code",
     "checksum": "94d6c3dc3c25680c53c2f2d4aef85b9d",
     "grade": true,
     "grade_id": "cell-64eaa83780f5eac9",
     "locked": false,
     "points": 0,
     "schema_version": 3,
     "solution": true
    }
   },
   "outputs": [],
   "source": [
    "# YOUR CODE HERE\n",
    "batch_size = 64\n",
    "pic_size = (224, 224)\n",
    "trans_vec_VGG = transforms.Compose([transforms.Resize(pic_size), \n",
    "                                transforms.ToTensor(), \n",
    "                                transforms.Normalize(mean=[0.485, 0.456, 0.406],\n",
    "                                                     std=[0.229, 0.224, 0.225])])\n",
    "\n",
    "\n",
    "#VGG Big Dataset \n",
    "train_IF_VGG = datasets.ImageFolder(Path(train_path), transform = trans_vec_VGG)\n",
    "val_IF_VGG = datasets.ImageFolder(Path(val_path), transform = trans_vec_VGG)\n",
    "\n",
    "dl_train_VGG = DataLoader(train_IF_VGG, batch_size = batch_size, shuffle = True, num_workers = 0)\n",
    "dl_val_VGG = DataLoader(val_IF_VGG, batch_size = 16, shuffle = True, num_workers = 0)\n",
    "\n",
    "val_dataset = val_IF_VGG\n",
    "train_dataset = train_IF_VGG"
   ]
  },
  {
   "cell_type": "markdown",
   "metadata": {
    "deletable": false,
    "editable": false,
    "nbgrader": {
     "cell_type": "markdown",
     "checksum": "122af97053f34fc41312863aab715317",
     "grade": false,
     "grade_id": "cell-f3f79586de42561b",
     "locked": true,
     "schema_version": 3,
     "solution": false
    }
   },
   "source": [
    "Train your model using the full data. This optimization might take a long time, so live plotting of some metrics is recommended."
   ]
  },
  {
   "cell_type": "code",
   "execution_count": 33,
   "metadata": {
    "deletable": false,
    "nbgrader": {
     "cell_type": "code",
     "checksum": "27996ba3be6dddb4dfe2da1d0964f5ff",
     "grade": true,
     "grade_id": "cell-c7dd71a632b5f152",
     "locked": false,
     "points": 0,
     "schema_version": 3,
     "solution": true
    }
   },
   "outputs": [
    {
     "name": "stdout",
     "output_type": "stream",
     "text": [
      "------ Epoch 0 ------\n",
      "Epoch 0 \tLoss: 0.040 \tLoss (val): 0.026\tAccuracy: 0.99 \tAccuracy (val): 0.99\n",
      "------ Epoch 1 ------\n",
      "Epoch 1 \tLoss: 0.012 \tLoss (val): 0.026\tAccuracy: 1.00 \tAccuracy (val): 0.99\n",
      "------ Epoch 2 ------\n",
      "Epoch 2 \tLoss: 0.005 \tLoss (val): 0.029\tAccuracy: 1.00 \tAccuracy (val): 0.99\n",
      "------ Epoch 3 ------\n",
      "Epoch 3 \tLoss: 0.002 \tLoss (val): 0.031\tAccuracy: 1.00 \tAccuracy (val): 0.99\n",
      "------ Epoch 4 ------\n",
      "Epoch 4 \tLoss: 0.001 \tLoss (val): 0.035\tAccuracy: 1.00 \tAccuracy (val): 0.99\n"
     ]
    }
   ],
   "source": [
    "# Set best model here:\n",
    "model = vgg_model\n",
    "\n",
    "\n",
    "loss_fn = nn.CrossEntropyLoss()\n",
    "optimizer = optim.Adam(model.parameters(), lr=0.00001)\n",
    "\n",
    "device = torch.device(\"cuda\")\n",
    "model.to(device)\n",
    "\n",
    "#Quick switch epochs\n",
    "epochs = 5\n",
    "\n",
    "# Create arrays to save all of the metrics throughout training\n",
    "train_losses_vgg_AllData = []\n",
    "val_losses_vgg_AllData = []\n",
    "train_accs_vgg_AllData = []\n",
    "val_accs_vgg_AllData = []\n",
    "\n",
    "\n",
    "# Train the model\n",
    "\n",
    "#for epoch in tqdm(range(epochs)):\n",
    "for epoch in range(epochs):\n",
    "    print('------ Epoch {} ------'.format(epoch))\n",
    "    \n",
    "    #Train one epoch\n",
    "    train_accuracy, train_avg_loss, val_accuracy, val_avg_loss = evaluate_epoch(dl_train_VGG, \n",
    "                                                                                dl_val_VGG, \n",
    "                                                                                model, \n",
    "                                                                                loss_fn, \n",
    "                                                                                optimizer)\n",
    "    \n",
    "    \n",
    "    #Store metrics in arrays\n",
    "    train_losses_vgg_AllData.append(train_avg_loss)\n",
    "    train_accs_vgg_AllData.append(train_accuracy)\n",
    "    \n",
    "    val_losses_vgg_AllData.append(val_avg_loss)\n",
    "    val_accs_vgg_AllData.append(val_accuracy)\n",
    "    \n",
    "    \n",
    "    # Display metrics\n",
    "    display_str = 'Epoch {} '\n",
    "    display_str += '\\tLoss: {:.3f} '\n",
    "    display_str += '\\tLoss (val): {:.3f}'\n",
    "    display_str += '\\tAccuracy: {:.2f} '\n",
    "    display_str += '\\tAccuracy (val): {:.2f}'\n",
    "    print(display_str.format(epoch, train_avg_loss, val_avg_loss, train_accuracy, val_accuracy))\n",
    "     "
   ]
  },
  {
   "cell_type": "markdown",
   "metadata": {
    "deletable": false,
    "editable": false,
    "nbgrader": {
     "cell_type": "markdown",
     "checksum": "d0ab46f558fb4b49f877ca0bae45376b",
     "grade": false,
     "grade_id": "cell-b1861d3a543c6386",
     "locked": true,
     "schema_version": 3,
     "solution": false
    }
   },
   "source": [
    "How does the model perform now when trained on the entire dataset, compared to when only trained on the smaller subset of data? Create one plot with the training accuracy and another with the validation accuracy of the two scenarios."
   ]
  },
  {
   "cell_type": "code",
   "execution_count": 34,
   "metadata": {
    "deletable": false,
    "nbgrader": {
     "cell_type": "code",
     "checksum": "52bacfa672fbc7eca004c87d041e3411",
     "grade": true,
     "grade_id": "cell-ceaac6be60ce36a9",
     "locked": false,
     "points": 0,
     "schema_version": 3,
     "solution": true
    }
   },
   "outputs": [
    {
     "data": {
      "image/png": "[encoded data removed]",
      "text/plain": [
       "<Figure size 864x432 with 2 Axes>"
      ]
     },
     "metadata": {
      "needs_background": "light"
     },
     "output_type": "display_data"
    }
   ],
   "source": [
    "# YOUR CODE HERE\n",
    "fig, ax = plt.subplots(ncols=2, figsize=(12,6))\n",
    "plt.ion()\n",
    "\n",
    "ax[0].clear()\n",
    "ax[0].plot(train_accs_vgg_imp)\n",
    "ax[0].plot(train_accs_vgg_AllData)\n",
    "ax[1].clear()\n",
    "ax[1].plot(val_accs_vgg_imp)\n",
    "ax[1].plot(val_accs_vgg_AllData)\n",
    "\n",
    "# Add legends and labels\n",
    "ax[0].set_title('Training Accuracy')\n",
    "ax[0].set_xlabel('Number of Epochs')\n",
    "ax[0].legend(['small Data', 'all Data'])\n",
    "\n",
    "ax[1].set_title('Validation Accuracy')\n",
    "ax[1].set_xlabel('Number of Epochs')\n",
    "ax[1].legend(['small Data', 'all Data'])\n",
    "ax[1].set_ylim([0,1])\n",
    "\n",
    "# Draw the figure on the screen\n",
    "fig.canvas.draw()"
   ]
  },
  {
   "cell_type": "markdown",
   "metadata": {
    "deletable": false,
    "editable": false,
    "nbgrader": {
     "cell_type": "markdown",
     "checksum": "c6d931b0ea2198e83794788a4582de55",
     "grade": false,
     "grade_id": "cell-b38092b08c150e7d",
     "locked": true,
     "schema_version": 3,
     "solution": false
    }
   },
   "source": [
    "**(2 POE)** What can you conclude from these plots? Did you expect what you observe in the plots, explain!"
   ]
  },
  {
   "cell_type": "markdown",
   "metadata": {
    "deletable": false,
    "nbgrader": {
     "cell_type": "markdown",
     "checksum": "22d5b2529d702c64919bef4e02ca308c",
     "grade": true,
     "grade_id": "cell-694a3fbb7f081da8",
     "locked": false,
     "points": 2,
     "schema_version": 3,
     "solution": true
    }
   },
   "source": [
    "**Your answer:** The plots show that the network trained on the larger dataset is more accurate, which is to be expected as there will be more varying data to learn from in the larger dataset. Thus the model trained on all the data will be better at picking out more generalized features. \n",
    "\n",
    "Note: For the final run, the improved net achieved a perfect accuracy within one epoch, thus the statement above regard accuracy, the behaviour of which was observed previously, is technically false. However, as can be seen from the loss of the validation, the network when trained on the small dataset starts overfitting to the training data, thus the network trained on the entire dataset is better at picking out general features."
   ]
  },
  {
   "cell_type": "markdown",
   "metadata": {
    "deletable": false,
    "editable": false,
    "nbgrader": {
     "cell_type": "markdown",
     "checksum": "616d9047ba0c30d8343e48ecc58bd4d0",
     "grade": false,
     "grade_id": "cell-5e1ddfbfceb4d194",
     "locked": true,
     "schema_version": 3,
     "solution": false
    }
   },
   "source": [
    "## 6. Evaluation on test set (optional)"
   ]
  },
  {
   "cell_type": "markdown",
   "metadata": {
    "deletable": false,
    "editable": false,
    "nbgrader": {
     "cell_type": "markdown",
     "checksum": "2ba9f068757111d07c7e537904e333cf",
     "grade": false,
     "grade_id": "cell-a97630bf5d85363f",
     "locked": true,
     "schema_version": 3,
     "solution": false
    }
   },
   "source": [
    "Now we'll evaluate your final model, obtained in step 6, on the test set. As mentioned before, the samples in the test set are not labeled, so we can't compute any performance metrics ourselves. \n",
    "\n",
    "As a bit of fun and to inspire some friendly competition you may instead submit it to Kaggle for evaluation."
   ]
  },
  {
   "cell_type": "markdown",
   "metadata": {
    "deletable": false,
    "editable": false,
    "nbgrader": {
     "cell_type": "markdown",
     "checksum": "2117c8c8e04d212a24f96d72d047526c",
     "grade": false,
     "grade_id": "cell-96a8fded54ed7011",
     "locked": true,
     "schema_version": 3,
     "solution": false
    }
   },
   "source": [
    "Compute the predictions for all samples in the test set according to your best model, and save it in a .csv file with the format expected by the competition.\n",
    "\n",
    "Hints:\n",
    "- There is a `sampleSubmission.csv` file included in the zip data. Take a look at it to better understand what is the expected format here.\n",
    "- `pathlib`'s `Path` class has a `glob` function, which returns the filenames of all files in a given path.\n",
    "- If you don't know how to create and write to files with Python, Google can help."
   ]
  },
  {
   "cell_type": "code",
   "execution_count": 35,
   "metadata": {
    "deletable": false,
    "nbgrader": {
     "cell_type": "code",
     "checksum": "e235a9ab5690a066143575414247f751",
     "grade": true,
     "grade_id": "cell-cc77ac7849f856e1",
     "locked": false,
     "points": 0,
     "schema_version": 3,
     "solution": true
    }
   },
   "outputs": [],
   "source": [
    "# YOUR CODE HERE\n",
    "df = DataFrame(columns = ['id', 'label'])\n",
    "\n",
    "for img_path in Path(\"./test\").glob(\"*.jpg\"):\n",
    "    #Get image and do transformations to make it fit VGG\n",
    "    img = Image.open(img_path)\n",
    "    img_trans = trans_vec_VGG(img)\n",
    "    img_trans.unsqueeze_(0)\n",
    "    \n",
    "    #Feed the network and obtain result of classification  \n",
    "    result = F.softmax(vgg_model(img_trans.to('cuda')), dim = 1)\n",
    "    #Append dataframe\n",
    "    filename = img.filename.split('/')[-1]\n",
    "    \n",
    "    df = df.append({'id': filename.split('.')[0], 'label': result[0][1].item()},ignore_index=True)\n",
    "\n",
    "#Save to disk\n",
    "df.to_csv(\"test_classification.csv\", index=False)"
   ]
  },
  {
   "cell_type": "markdown",
   "metadata": {
    "deletable": false,
    "editable": false,
    "nbgrader": {
     "cell_type": "markdown",
     "checksum": "97877f48922ebbd0c50829231a227ce5",
     "grade": false,
     "grade_id": "cell-faf8664f26ff7f4e",
     "locked": true,
     "schema_version": 3,
     "solution": false
    }
   },
   "source": [
    "Now that you created your submission file, submit it to Kaggle for evaluation. The [old competition](https://www.kaggle.com/c/dogs-vs-cats) does not allow submissions any more, but you can submit your file to the [new one](https://www.kaggle.com/c/dogs-vs-cats-redux-kernels-edition) via the \"Late submission\" button (they use the same data). The Kaggle CLI can be used as well. Kaggle evaluates your submission according to your log-loss score. Which score did you obtain?"
   ]
  },
  {
   "cell_type": "markdown",
   "metadata": {
    "deletable": false,
    "nbgrader": {
     "cell_type": "markdown",
     "checksum": "b8507722245d56a20dd6809091664f78",
     "grade": true,
     "grade_id": "cell-e951dcec64dec85d",
     "locked": false,
     "points": 0,
     "schema_version": 3,
     "solution": true
    }
   },
   "source": [
    "**Your answer:** 0.14971"
   ]
  }
 ],
 "metadata": {
  "celltoolbar": "Edit Metadata",
  "kernelspec": {
   "display_name": "Python 3",
   "language": "python",
   "name": "python3"
  },
  "language_info": {
   "codemirror_mode": {
    "name": "ipython",
    "version": 3
   },
   "file_extension": ".py",
   "mimetype": "text/x-python",
   "name": "python",
   "nbconvert_exporter": "python",
   "pygments_lexer": "ipython3",
   "version": "3.6.9"
  }
 },
 "nbformat": 4,
 "nbformat_minor": 2
}
