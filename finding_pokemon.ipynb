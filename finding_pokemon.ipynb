{
 "cells": [
  {
   "cell_type": "markdown",
   "metadata": {
    "deletable": false,
    "editable": false,
    "nbgrader": {
     "cell_type": "markdown",
     "checksum": "587eb0d471650fb68cb3c1f5021df2d4",
     "grade": false,
     "grade_id": "cell-1420bd2a80dfa7d5",
     "locked": true,
     "schema_version": 3,
     "solution": false
    }
   },
   "source": [
    "# IHA2 - Catching Pokemon"
   ]
  },
  {
   "cell_type": "markdown",
   "metadata": {
    "deletable": false,
    "editable": false,
    "nbgrader": {
     "cell_type": "markdown",
     "checksum": "96205d81b93c5615cfbd5cee3aaaa5df",
     "grade": false,
     "grade_id": "cell-c0cb4dde48293818",
     "locked": true,
     "schema_version": 3,
     "solution": false
    }
   },
   "source": [
    "![](http://tibetanitech.com/wp-content/uploads/2016/09/Pokemon-GO.jpg)"
   ]
  },
  {
   "cell_type": "markdown",
   "metadata": {
    "deletable": false,
    "editable": false,
    "nbgrader": {
     "cell_type": "markdown",
     "checksum": "05cc55bf4efcf094e6c4b88858e864ac",
     "grade": false,
     "grade_id": "cell-b16d667dd74a9079",
     "locked": true,
     "schema_version": 3,
     "solution": false
    }
   },
   "source": [
    "In this home assignment, you'll apply roughly the same principles we used when doing logistic regression on the Iris dataset in Computer Lab 1, but on a new and very interesting dataset. We'll use the [Predict'em All dataset from Kaggle](https://www.kaggle.com/semioniy/predictemall) (download the dataset directly from Kaggle using this link). This dataset consists of roughly 293,000 [pokemon](http://www.pokemongo.com/) sightings (historical appearances of Pokemon in the Pokemon Go game), with geographical coordinates, time, weather, population density, distance to pokestops/gyms etc. as features. A comprehensive list of all the features is available at [the dataset's homepage](https://www.kaggle.com/semioniy/predictemall)\n",
    "\n",
    "The context is simple: you are a Pokemon hunter, and there are only three Pokemon left for you to complete your collection. You'll do anything to capture them, including changing where you'll spend your next holidays! You know that some Pokemon only spawn in certain places of the world. Since you like machine learning so much, you figure it would be a great idea to train a classifier that, based on a location's latitude and longitude, can tell us which Pokemon is more likely to appear there.\n",
    "\n",
    "The assignment is broken down into six steps.\n",
    "\n",
    "1. Loading the data and extracting the desired subset of it\n",
    "2. Visualization of the dataset\n",
    "3. Preprocessing\n",
    "4. Training\n",
    "5. Evaluation\n",
    "6. Exploration\n",
    "\n",
    "\n",
    "Feel free to add cells wherever you see fit, and play around with this notebook as much as you want when developing the solutions. However, the solution you upload to Canvas must have the exact format shown here, with only the cells present here.\n",
    "\n",
    "Don't restrict yourself only to what was taught so far. Some of the tasks might require you to search for new information. However, **be sure that you do the assignment using PyTorch** since we will be using it through the following assignments as well. [The python docs](https://docs.python.org/3/), [pytorch docs](https://pytorch.org/docs/stable/index.html), [stackoverflow](https://stackoverflow.com/), and Google are your friends!\n",
    "\n",
    "**Hint:** Solving Computer Lab 1 (CL1) is a good way to get prepared for this assignment."
   ]
  },
  {
   "cell_type": "markdown",
   "metadata": {
    "deletable": false,
    "editable": false,
    "nbgrader": {
     "cell_type": "markdown",
     "checksum": "6d8a3b20e9634f5c918019159cde8280",
     "grade": false,
     "grade_id": "cell-b9e4c4aa45490941",
     "locked": true,
     "schema_version": 3,
     "solution": false
    }
   },
   "source": [
    "## 0. Imports"
   ]
  },
  {
   "cell_type": "markdown",
   "metadata": {
    "deletable": false,
    "editable": false,
    "nbgrader": {
     "cell_type": "markdown",
     "checksum": "ca68d5a34a1d6f8633072976fad132a3",
     "grade": false,
     "grade_id": "cell-548d168c5c9e8c39",
     "locked": true,
     "schema_version": 3,
     "solution": false
    }
   },
   "source": [
    "Import any necessary modules here."
   ]
  },
  {
   "cell_type": "code",
   "execution_count": 7,
   "metadata": {
    "deletable": false,
    "nbgrader": {
     "cell_type": "code",
     "checksum": "11dafa1e39d08540e4bfe0939c7f89be",
     "grade": true,
     "grade_id": "cell-4e61b7fa879ef4a1",
     "locked": false,
     "points": 0,
     "schema_version": 3,
     "solution": true
    }
   },
   "outputs": [],
   "source": [
    "# YOUR CODE HERE\n",
    "import numpy as np\n",
    "import pandas as pd\n",
    "import matplotlib.pyplot as plt\n",
    "%matplotlib inline\n",
    "from sklearn.model_selection import train_test_split\n",
    "import torch\n",
    "from torch.utils.data import TensorDataset\n",
    "from torch.utils.data import DataLoader\n",
    "from torch import nn\n",
    "import torch.nn.functional as F\n",
    "import seaborn as sns\n",
    "from torch import optim"
   ]
  },
  {
   "cell_type": "markdown",
   "metadata": {
    "deletable": false,
    "editable": false,
    "nbgrader": {
     "cell_type": "markdown",
     "checksum": "a576cdb7f1a3658a7eb906977c5e40fb",
     "grade": false,
     "grade_id": "cell-50c33a3517aea662",
     "locked": true,
     "schema_version": 3,
     "solution": false
    }
   },
   "source": [
    "## 1. Loading and extracting subset"
   ]
  },
  {
   "cell_type": "markdown",
   "metadata": {
    "deletable": false,
    "editable": false,
    "nbgrader": {
     "cell_type": "markdown",
     "checksum": "eec1dd2eea0aeff72a2abe1f2d34dc34",
     "grade": false,
     "grade_id": "cell-32f6c44c22e84d42",
     "locked": true,
     "schema_version": 3,
     "solution": false
    }
   },
   "source": [
    "The first step consists of filtering the dataset by the three pokemon you are interested at. \n",
    "\n",
    "Start by loading the `'300k.csv'` file using pandas. If you haven't downloaded it yet, use [this link](https://www.kaggle.com/semioniy/predictemall) to do so. "
   ]
  },
  {
   "cell_type": "code",
   "execution_count": 8,
   "metadata": {
    "deletable": false,
    "nbgrader": {
     "cell_type": "code",
     "checksum": "8589039ecf22cd99c60f34e31a578011",
     "grade": true,
     "grade_id": "cell-53b2a6c0754fca1d",
     "locked": false,
     "points": 0,
     "schema_version": 3,
     "solution": true
    }
   },
   "outputs": [
    {
     "name": "stderr",
     "output_type": "stream",
     "text": [
      "C:\\Users\\krthk\\anaconda3\\envs\\dml\\lib\\site-packages\\IPython\\core\\interactiveshell.py:3146: DtypeWarning: Columns (49) have mixed types.Specify dtype option on import or set low_memory=False.\n",
      "  interactivity=interactivity, compiler=compiler, result=result)\n"
     ]
    }
   ],
   "source": [
    "# YOUR CODE HERE\n",
    "Data = pd.read_csv(\"300k.csv\") "
   ]
  },
  {
   "cell_type": "markdown",
   "metadata": {
    "deletable": false,
    "editable": false,
    "nbgrader": {
     "cell_type": "markdown",
     "checksum": "02cc9be6a5e73b53096a641dc555acfd",
     "grade": false,
     "grade_id": "cell-5d36e8f9780ea946",
     "locked": true,
     "schema_version": 3,
     "solution": false
    }
   },
   "source": [
    "Create a new `DataFrame` with only the columns `latitude`, `longitude`, and `class`."
   ]
  },
  {
   "cell_type": "code",
   "execution_count": 9,
   "metadata": {
    "deletable": false,
    "nbgrader": {
     "cell_type": "code",
     "checksum": "8f0b7bc21ecc33d1bf75ca430241d758",
     "grade": true,
     "grade_id": "cell-318e20fd02ab7f30",
     "locked": false,
     "points": 0,
     "schema_version": 3,
     "solution": true
    }
   },
   "outputs": [
    {
     "name": "stdout",
     "output_type": "stream",
     "text": [
      "         latitude   longitude  class\n",
      "0       20.525745  -97.460829     16\n",
      "1       20.523695  -97.461167    133\n",
      "2       38.903590  -77.199780     16\n",
      "3       47.665903 -122.312561     13\n",
      "4       47.666454 -122.311628    133\n",
      "...           ...         ...    ...\n",
      "296016  39.119052  -76.633194     19\n",
      "296017  47.142237    7.244752     13\n",
      "296018  42.258532  -87.881248     16\n",
      "296019  26.230929  -98.194772     19\n",
      "296020  50.144272   14.101178     96\n",
      "\n",
      "[296021 rows x 3 columns]\n"
     ]
    }
   ],
   "source": [
    "# YOUR CODE HERE\n",
    "DataFrame = Data[[\"latitude\" , \"longitude\" , \"class\"]]\n",
    "print(DataFrame)"
   ]
  },
  {
   "cell_type": "markdown",
   "metadata": {
    "deletable": false,
    "editable": false,
    "nbgrader": {
     "cell_type": "markdown",
     "checksum": "f7530aa8a953c622557fd41c3d247318",
     "grade": false,
     "grade_id": "cell-6f7970ff67af4649",
     "locked": true,
     "schema_version": 3,
     "solution": false
    }
   },
   "source": [
    "Note that the `class` column specifies which pokemon it is. However, it only has the numerical id of the pokemon. For convenience, use the following dictionary to convert between ids and names."
   ]
  },
  {
   "cell_type": "code",
   "execution_count": 10,
   "metadata": {
    "deletable": false,
    "editable": false,
    "nbgrader": {
     "cell_type": "code",
     "checksum": "72b742e685899831f4bde270ad99ec38",
     "grade": false,
     "grade_id": "cell-50ff16afeaf933cf",
     "locked": true,
     "schema_version": 3,
     "solution": false
    }
   },
   "outputs": [],
   "source": [
    "name_dict={1: 'Bulbasaur', 2: 'Ivysaur', 3: 'Venusaur', 4: 'Charmander', 5: 'Charmeleon', 6: 'Charizard', 7: 'Squirtle', 8: \n",
    "          'Wartortle', 9: 'Blastoise', 10: 'Caterpie', 11: 'Metapod', 12: 'Butterfree', 13: 'Weedle', 14: 'Kakuna', \n",
    "          15: 'Beedrill', 16: 'Pidgey', 17: 'Pidgeotto', 18: 'Pidgeot', 19: 'Rattata', 20: 'Raticate', 21: 'Spearow',\n",
    "          22: 'Fearow', 23: 'Ekans', 24: 'Arbok', 25: 'Pikachu', 26: 'Raichu', 27: 'Sandshrew', 28: 'Sandslash', \n",
    "          29: 'Nidoran F', 30: 'Nidorina', 31: 'Nidoqueen',32: 'Nidoran M', 33: 'Nidorino', 34: 'Nidoking', 35: 'Clefairy',\n",
    "          36: 'Clefable', 37: 'Vulpix', 38: 'Ninetales', 39: 'Jigglypuff', 40: 'Wigglytuff', 41: 'Zubat', 42: 'Golbat', \n",
    "          43: 'Oddish', 44: 'Gloom', 45: 'Vileplume', 46: 'Paras', 47: 'Parasect', 48: 'Venonat', 49: 'Venomoth',\n",
    "          50: 'Diglett', 51: 'Dugtrio', 52: 'Meowth', 53: 'Persian', 54: 'Psyduck',55: 'Golduck', 56: 'Mankey', \n",
    "          57: 'Primeape', 58: 'Growlithe', 59: 'Arcanine', 60: 'Poliwag', 61: 'Poliwhirl', 62: 'Poliwrath',\n",
    "          63: 'Abra', 64: 'Kadabra', 65: 'Alakazam', 66: 'Machop', 67: 'Machoke', 68: 'Machamp', 69: 'Bellsprout', \n",
    "          70: 'Weepinbell', 71: 'Victreebel', 72: 'Tentacool', 73: 'Tentacruel', 74: 'Geodude', 75: 'Graveler',\n",
    "          76: 'Golem', 77: 'Ponyta', 78: 'Rapidash', 79: 'Slowpoke', 80: 'Slowbro', 81: 'Magnemite', 82: 'Magneton',\n",
    "          83: \"Farfetch'd\", 84: 'Doduo', 85: 'Dodrio', 86: 'Seel', 87: 'Dewgong', 88: 'Grimer', 89: 'Muk', \n",
    "          90: 'Shellder', 91: 'Cloyster', 92: 'Gastly', 93: 'Haunter', 94: 'Gengar', 95: 'Onix', 96: 'Drowzee',\n",
    "          97: 'Hypno', 98: 'Krabby', 99: 'Kingler', 100: 'Voltorb', 101: 'Electrode', 102: 'Exeggcute', 103: 'Exeggutor', \n",
    "          104: 'Cubone', 105: 'Marowak', 106: 'Hitmonlee', 107: 'Hitmonchan', 108: 'Lickitung', 109: 'Koffing',\n",
    "          110: 'Weezing', 111: 'Rhyhorn', 112: 'Rhydon', 113: 'Chansey', 114: 'Tangela', 115: 'Kangaskhan', 116: 'Horsea', \n",
    "          117: 'Seadra', 118: 'Goldeen', 119: 'Seaking', 120: 'Staryu', 121: 'Starmie', 122: 'Mr. Mime', 123: 'Scyther', \n",
    "          124: 'Jynx', 125: 'Electabuzz', 126: 'Magmar', 127: 'Pinsir', 128: 'Tauros', 129: 'Magikarp', 130: 'Gyarados', \n",
    "          131: 'Lapras', 132: 'Ditto', 133: 'Eevee', 134: 'Vaporeon', 135: 'Jolteon', 136: 'Flareon', 137: 'Porygon', \n",
    "          138: 'Omanyte', 139: 'Omastar', 140: 'Kabuto', 141: 'Kabutops', 142: 'Aerodactyl', 143: 'Snorlax', 144: 'Articuno',\n",
    "          145: 'Zapdos', 146: 'Moltres', 147: 'Dratini', 148: 'Dragonair', 149: 'Dragonite', 150: 'Mewtwo', 'Bulbasaur': 1, 'Ivysaur': 2, 'Venusaur': 3, 'Charmander': 4, 'Charmeleon': 5, 'Charizard': 6, 'Squirtle': 7, 'Wartortle': 8, 'Blastoise': 9, 'Caterpie': 10, 'Metapod': 11, 'Butterfree': 12, 'Weedle': 13, 'Kakuna': 14, 'Beedrill': 15, 'Pidgey': 16, 'Pidgeotto': 17, 'Pidgeot': 18, 'Rattata': 19, 'Raticate': 20, 'Spearow': 21, 'Fearow': 22, 'Ekans': 23, 'Arbok': 24, 'Pikachu': 25, 'Raichu': 26, 'Sandshrew': 27, 'Sandslash': 28, 'Nidoran F': 29, 'Nidorina': 30, 'Nidoqueen': 31, 'Nidoran M': 32, 'Nidorino': 33, 'Nidoking': 34, 'Clefairy': 35, 'Clefable': 36, 'Vulpix': 37, 'Ninetales': 38, 'Jigglypuff': 39, 'Wigglytuff': 40, 'Zubat': 41, 'Golbat': 42, 'Oddish': 43, 'Gloom': 44, 'Vileplume': 45, 'Paras': 46, 'Parasect': 47, 'Venonat': 48, 'Venomoth': 49, 'Diglett': 50, 'Dugtrio': 51, 'Meowth': 52, 'Persian': 53, 'Psyduck': 54, 'Golduck': 55, 'Mankey': 56, 'Primeape': 57, 'Growlithe': 58, 'Arcanine': 59, 'Poliwag': 60, 'Poliwhirl': 61, 'Poliwrath': 62, 'Abra': 63, 'Kadabra': 64, 'Alakazam': 65, 'Machop': 66, 'Machoke': 67, 'Machamp': 68, 'Bellsprout': 69, 'Weepinbell': 70, 'Victreebel': 71, 'Tentacool': 72, 'Tentacruel': 73, 'Geodude': 74, 'Graveler': 75, 'Golem': 76, 'Ponyta': 77, 'Rapidash': 78, 'Slowpoke': 79, 'Slowbro': 80, 'Magnemite': 81, 'Magneton': 82, 'Farfetch\\'d': 83, 'Doduo': 84, 'Dodrio': 85, 'Seel': 86, 'Dewgong': 87, 'Grimer': 88, 'Muk': 89, 'Shellder': 90, 'Cloyster': 91, 'Gastly': 92, 'Haunter': 93, 'Gengar': 94, 'Onix': 95, 'Drowzee': 96, 'Hypno': 97, 'Krabby': 98, 'Kingler': 99, 'Voltorb': 100, 'Electrode': 101, 'Exeggcute': 102, 'Exeggutor': 103, 'Cubone': 104, 'Marowak': 105, 'Hitmonlee': 106, 'Hitmonchan': 107, 'Lickitung': 108, 'Koffing': 109, 'Weezing': 110, 'Rhyhorn': 111, 'Rhydon': 112, 'Chansey': 113, 'Tangela': 114, 'Kangaskhan': 115, 'Horsea': 116, 'Seadra': 117, 'Goldeen': 118, 'Seaking': 119, 'Staryu': 120, 'Starmie': 121, 'Mr. Mime': 122, 'Scyther': 123, 'Jynx': 124, 'Electabuzz': 125, 'Magmar': 126, 'Pinsir': 127, 'Tauros': 128, 'Magikarp': 129, 'Gyarados': 130, 'Lapras': 131, 'Ditto': 132, 'Eevee': 133, 'Vaporeon': 134, 'Jolteon': 135, 'Flareon': 136, 'Porygon': 137, 'Omanyte': 138, 'Omastar': 139, 'Kabuto': 140, 'Kabutops': 141, 'Aerodactyl': 142, 'Snorlax': 143, 'Articuno': 144, 'Zapdos': 145, 'Moltres': 146, 'Dratini': 147, 'Dragonair': 148, 'Dragonite': 149, 'Mewtwo': 150}"
   ]
  },
  {
   "cell_type": "code",
   "execution_count": 11,
   "metadata": {},
   "outputs": [
    {
     "name": "stdout",
     "output_type": "stream",
     "text": [
      "94\n",
      "Gengar\n"
     ]
    }
   ],
   "source": [
    "# example usage (you can index either by name or id)\n",
    "print(name_dict['Gengar'])\n",
    "print(name_dict[94])"
   ]
  },
  {
   "cell_type": "markdown",
   "metadata": {
    "deletable": false,
    "editable": false,
    "nbgrader": {
     "cell_type": "markdown",
     "checksum": "09025bb17628db2a36bb21a5b3b6f1c5",
     "grade": false,
     "grade_id": "cell-eaa874b93b3b727c",
     "locked": true,
     "schema_version": 3,
     "solution": false
    }
   },
   "source": [
    "We are only interested in three specific pokemon: Diglett, Seel, and Tauros."
   ]
  },
  {
   "cell_type": "markdown",
   "metadata": {
    "deletable": false,
    "editable": false,
    "nbgrader": {
     "cell_type": "markdown",
     "checksum": "fb13900e729b707cf81097f3e28c10c1",
     "grade": false,
     "grade_id": "cell-7e0898a53c5649b0",
     "locked": true,
     "schema_version": 3,
     "solution": false
    }
   },
   "source": [
    "<table style=\"width:100%\">\n",
    "  <tr>\n",
    "    <th> <center>Diglett</center> </th>\n",
    "    <th> <center>Seel</center> </th> \n",
    "    <th> <center>Tauros</center> </th>\n",
    "  </tr>\n",
    "  <tr>\n",
    "    <td><img src=https://assets.pokemon.com/assets/cms2/img/pokedex/full/050_f2.png alt=Digglet></td>\n",
    "    <td><img src=https://pokemon.gamepedia.com/media/pokemon.gamepedia.com/thumb/f/f1/Seel.png/200px-Seel.png?version=2c32fbe0af2d0da707e5dbcb40472fbf></td>\n",
    "    <td><img src=https://vignette2.wikia.nocookie.net/pokemon/images/0/01/128Tauros_AG_anime.png/revision/latest?cb=20140924030616></td>\n",
    "  </tr>\n",
    "</table>\n",
    "\n"
   ]
  },
  {
   "cell_type": "markdown",
   "metadata": {
    "deletable": false,
    "editable": false,
    "nbgrader": {
     "cell_type": "markdown",
     "checksum": "d75af489f3c30c9763ec9adca054e035",
     "grade": false,
     "grade_id": "cell-d091927bf7d7938f",
     "locked": true,
     "schema_version": 3,
     "solution": false
    }
   },
   "source": [
    "Filter the dataset to contain only these pokemon."
   ]
  },
  {
   "cell_type": "code",
   "execution_count": 12,
   "metadata": {
    "deletable": false,
    "nbgrader": {
     "cell_type": "code",
     "checksum": "06fdbff28605ca63c20d4e87e2192a12",
     "grade": true,
     "grade_id": "cell-7089f3397cbc1f4a",
     "locked": false,
     "points": 0,
     "schema_version": 3,
     "solution": true
    }
   },
   "outputs": [
    {
     "name": "stdout",
     "output_type": "stream",
     "text": [
      "         latitude   longitude  class\n",
      "90      49.146199 -122.638105     50\n",
      "137     44.476769  -73.212749    128\n",
      "225     39.767486  -86.161068    128\n",
      "550     49.999197    9.066973     86\n",
      "629     25.724382 -100.379311     50\n",
      "...           ...         ...    ...\n",
      "294822  34.190725 -118.490821    128\n",
      "294909  34.189895 -118.490000     86\n",
      "295194  53.555035   -0.087039     86\n",
      "295436  34.186898 -118.488905     86\n",
      "295529  39.748243  -84.086557    128\n",
      "\n",
      "[2083 rows x 3 columns]\n"
     ]
    }
   ],
   "source": [
    "# YOUR CODE HERE\n",
    "ids = [name_dict['Diglett'], name_dict['Seel'], name_dict['Tauros']]\n",
    "dataSetFilt = DataFrame.loc[DataFrame[\"class\"].isin(ids)] \n",
    "print(dataSetFilt)"
   ]
  },
  {
   "cell_type": "markdown",
   "metadata": {
    "deletable": false,
    "editable": false,
    "nbgrader": {
     "cell_type": "markdown",
     "checksum": "2641774ea6d909844fb9d2e930763382",
     "grade": false,
     "grade_id": "cell-01b988bb1bfa1f92",
     "locked": true,
     "schema_version": 3,
     "solution": false
    }
   },
   "source": [
    "## 2. Visualization of the dataset"
   ]
  },
  {
   "cell_type": "markdown",
   "metadata": {
    "deletable": false,
    "editable": false,
    "nbgrader": {
     "cell_type": "markdown",
     "checksum": "0c94c9d33c3a6aebede69f250fec7974",
     "grade": false,
     "grade_id": "cell-5c7b8fdcd18575fe",
     "locked": true,
     "schema_version": 3,
     "solution": false
    }
   },
   "source": [
    "The second step consists of visualizing the dataset. This will help you understand the distribution of the features and get an idea of how hard the task will be.\n",
    "\n",
    "Plot a histogram of the number of occurrences of each class."
   ]
  },
  {
   "cell_type": "code",
   "execution_count": 13,
   "metadata": {
    "deletable": false,
    "nbgrader": {
     "cell_type": "code",
     "checksum": "b9b6048c83c3f3f72c51e4baa47b141b",
     "grade": true,
     "grade_id": "cell-c1a9921488e42992",
     "locked": false,
     "points": 0,
     "schema_version": 3,
     "solution": true
    }
   },
   "outputs": [
    {
     "data": {
      "text/plain": [
       "Text(0, 0.5, '# Occurences')"
      ]
     },
     "execution_count": 13,
     "metadata": {},
     "output_type": "execute_result"
    },
    {
     "data": {
      "image/png": "[encoded data removed]",
      "text/plain": [
       "<Figure size 432x288 with 1 Axes>"
      ]
     },
     "metadata": {
      "needs_background": "light"
     },
     "output_type": "display_data"
    }
   ],
   "source": [
    "# YOUR CODE HERE\n",
    "dataSetFilt.hist(column=\"class\")\n",
    "plt.xlabel(\"Pokemon class\")\n",
    "plt.ylabel(\"# Occurences\")"
   ]
  },
  {
   "cell_type": "markdown",
   "metadata": {
    "deletable": false,
    "editable": false,
    "nbgrader": {
     "cell_type": "markdown",
     "checksum": "8db3801153d88faae486675872d25de6",
     "grade": false,
     "grade_id": "cell-c22d835bdc58fe68",
     "locked": true,
     "schema_version": 3,
     "solution": false
    }
   },
   "source": [
    "Is the dataset balanced?"
   ]
  },
  {
   "cell_type": "markdown",
   "metadata": {
    "deletable": false,
    "nbgrader": {
     "cell_type": "markdown",
     "checksum": "c918f9b5d190f5f83c8dbd622e59d062",
     "grade": true,
     "grade_id": "cell-3d060bda26842b5d",
     "locked": false,
     "points": 0,
     "schema_version": 3,
     "solution": true
    }
   },
   "source": [
    "**Your answer:** \n",
    "     The dataset is almost balanced, since the number of occurrences of each class varies by very small factor."
   ]
  },
  {
   "cell_type": "markdown",
   "metadata": {
    "deletable": false,
    "editable": false,
    "nbgrader": {
     "cell_type": "markdown",
     "checksum": "1a7596c973fa0cb79ea1edb2d99fd2d3",
     "grade": false,
     "grade_id": "cell-931cbd9e3ec95da5",
     "locked": true,
     "schema_version": 3,
     "solution": false
    }
   },
   "source": [
    "Plot a scatter plot where the first dimension is latitude, the second is longitude, and each point is a Pokemon. Further, the color of each point should represent which Pokemon it is. Lastly, the marker at each point should be an `'x'`. Make sure to label each axis.\n",
    "\n",
    "Hints:\n",
    "\n",
    "- The `scatter` method from `matplotlib` accepts an argument called `c`.\n",
    "- The `scatter` method also accepts an argument called `marker`."
   ]
  },
  {
   "cell_type": "code",
   "execution_count": 14,
   "metadata": {
    "deletable": false,
    "nbgrader": {
     "cell_type": "code",
     "checksum": "f6f749d2605a9f0d0ae2dff5d584d414",
     "grade": true,
     "grade_id": "cell-1120bd5aa8abeae1",
     "locked": false,
     "points": 0,
     "schema_version": 3,
     "solution": true
    }
   },
   "outputs": [
    {
     "data": {
      "image/png": "[encoded data removed]",
      "text/plain": [
       "<Figure size 432x288 with 1 Axes>"
      ]
     },
     "metadata": {
      "needs_background": "light"
     },
     "output_type": "display_data"
    }
   ],
   "source": [
    "# YOUR CODE HERE\n",
    "for i in ids:\n",
    "    filt_temp = dataSetFilt['class'] == i\n",
    "    plt.scatter(dataSetFilt['latitude'][filt_temp], dataSetFilt['longitude'][filt_temp] , marker='x')\n",
    "plt.legend([\"Diglett\",\"Seel\",\"Tauros\"])\n",
    "plt.xlabel(\"Latitude\")\n",
    "plt.ylabel(\"Longitude\")\n",
    "plt.show()"
   ]
  },
  {
   "cell_type": "markdown",
   "metadata": {
    "deletable": false,
    "editable": false,
    "nbgrader": {
     "cell_type": "markdown",
     "checksum": "4de0c3f04f14adb2cdc7c5e9f76fb154",
     "grade": false,
     "grade_id": "cell-76f326a05bf22e09",
     "locked": true,
     "schema_version": 3,
     "solution": false
    }
   },
   "source": [
    "Is there any other visualization you think would be useful? If so, insert it here."
   ]
  },
  {
   "cell_type": "markdown",
   "metadata": {
    "collapsed": true,
    "deletable": false,
    "nbgrader": {
     "cell_type": "markdown",
     "checksum": "64654035bfe7ce53e421145357db4667",
     "grade": true,
     "grade_id": "cell-86724bfd3955c5ed",
     "locked": false,
     "points": 0,
     "schema_version": 3,
     "solution": true
    }
   },
   "source": [
    "**Your answer:** Scatter plot is better for latitude and longitude data."
   ]
  },
  {
   "cell_type": "markdown",
   "metadata": {
    "deletable": false,
    "editable": false,
    "nbgrader": {
     "cell_type": "markdown",
     "checksum": "6140988fa08ca186bbe62a74e82ddddd",
     "grade": false,
     "grade_id": "cell-7af3ac7849dc5252",
     "locked": true,
     "schema_version": 3,
     "solution": false
    }
   },
   "source": [
    "How hard do you think the problem is? Which classes can/cannot be easily separated?\n"
   ]
  },
  {
   "cell_type": "markdown",
   "metadata": {
    "deletable": false,
    "nbgrader": {
     "cell_type": "markdown",
     "checksum": "6bb25f67d0cf2e55d60f2b63646ce9fe",
     "grade": true,
     "grade_id": "cell-62e50deb2cca74b2",
     "locked": false,
     "points": 0,
     "schema_version": 3,
     "solution": true
    }
   },
   "source": [
    "**Your answer:**\n",
    "    The problem is pretty hard to solve, since the Diglett is spread across the region(cannot be easily separated) while Tauros is more concentrated as one blob. The Seel is also concentrated as two blobs and thus also difficult to separate."
   ]
  },
  {
   "cell_type": "markdown",
   "metadata": {
    "deletable": false,
    "editable": false,
    "nbgrader": {
     "cell_type": "markdown",
     "checksum": "9e6bfdd82abab0b61a471c52bfc9dff3",
     "grade": false,
     "grade_id": "cell-3d322369934aa289",
     "locked": true,
     "schema_version": 3,
     "solution": false
    }
   },
   "source": [
    "Which accuracy do you expect to achieve?"
   ]
  },
  {
   "cell_type": "markdown",
   "metadata": {
    "nbgrader": {
     "cell_type": "markdown",
     "checksum": "931b0e510dcc8867fb3efb7e50fe8a25",
     "grade": true,
     "grade_id": "cell-f2c255ad5dd7e5fc",
     "locked": false,
     "points": 0,
     "schema_version": 3,
     "solution": true
    }
   },
   "source": [
    "**Your answer:**\n",
    "    Accuracy expected is around 55 to 65 %"
   ]
  },
  {
   "cell_type": "markdown",
   "metadata": {
    "deletable": false,
    "editable": false,
    "nbgrader": {
     "cell_type": "markdown",
     "checksum": "d5510f4a800380ecc156cd9d2f3898e5",
     "grade": false,
     "grade_id": "cell-451e0813fca28b8b",
     "locked": true,
     "schema_version": 3,
     "solution": false
    }
   },
   "source": [
    "## 3. Preprocessing"
   ]
  },
  {
   "cell_type": "markdown",
   "metadata": {
    "deletable": false,
    "editable": false,
    "nbgrader": {
     "cell_type": "markdown",
     "checksum": "6f45a44b8b3c4258219af1a4de0bd143",
     "grade": false,
     "grade_id": "cell-3eed8190495b60ac",
     "locked": true,
     "schema_version": 3,
     "solution": false
    }
   },
   "source": [
    "The third step consists of processing the data before training, such as dividing the dataset into training, validation, and test sets. Some tranformations can also be applied to the dataset in order to improve the performance of the network. \n",
    "\n",
    "Start by creating the input and output vectors."
   ]
  },
  {
   "cell_type": "code",
   "execution_count": 15,
   "metadata": {
    "deletable": false,
    "nbgrader": {
     "cell_type": "code",
     "checksum": "266ae4cb5f1d572448577f583d04925b",
     "grade": true,
     "grade_id": "cell-c61cb8065babf0c5",
     "locked": false,
     "points": 0,
     "schema_version": 3,
     "solution": true
    }
   },
   "outputs": [
    {
     "name": "stdout",
     "output_type": "stream",
     "text": [
      "[0 2 2 1 0 2 0 0 1 0]\n"
     ]
    }
   ],
   "source": [
    "# YOUR CODE HERE\n",
    "X = dataSetFilt[[\"latitude\" , \"longitude\"]].to_numpy()\n",
    "\n",
    "def encode_species(val):\n",
    "    if val == 50:\n",
    "        return 0\n",
    "    if val == 86:\n",
    "        return 1\n",
    "    if val == 128:\n",
    "        return 2\n",
    "    else:\n",
    "        raise ValueError('Species \\'{}\\' is not recognized.'.format(species))\n",
    "        \n",
    "temp = map(encode_species, dataSetFilt['class'].values)\n",
    "Y = np.array(list(temp))\n",
    "print(Y[0:10])"
   ]
  },
  {
   "cell_type": "markdown",
   "metadata": {
    "deletable": false,
    "editable": false,
    "nbgrader": {
     "cell_type": "markdown",
     "checksum": "dad48214b4d12cea9b6bbe326e70fae7",
     "grade": false,
     "grade_id": "cell-566d2f340fa57d49",
     "locked": true,
     "schema_version": 3,
     "solution": false
    }
   },
   "source": [
    "Separate your data into training (55%), validation (25%) and test sets (20%). If you wish to apply any transformation to the dataset, do it here as well. "
   ]
  },
  {
   "cell_type": "code",
   "execution_count": 16,
   "metadata": {
    "deletable": false,
    "nbgrader": {
     "cell_type": "code",
     "checksum": "a23648ec359fa6060da2f7ecd3591f92",
     "grade": true,
     "grade_id": "cell-918e3bb4d74472bd",
     "locked": false,
     "points": 0,
     "schema_version": 3,
     "solution": true
    }
   },
   "outputs": [],
   "source": [
    "# YOUR CODE HERE\n",
    "x_trainval, x_test, y_trainval, y_test = train_test_split(X, Y, test_size=0.2, random_state=10)\n",
    "x_train, x_val, y_train, y_val = train_test_split(x_trainval, y_trainval, test_size=0.3125, random_state=10)"
   ]
  },
  {
   "cell_type": "markdown",
   "metadata": {
    "deletable": false,
    "editable": false,
    "nbgrader": {
     "cell_type": "markdown",
     "checksum": "c9b5ffa094240411cb43919a003ba914",
     "grade": false,
     "grade_id": "cell-b9088197f0ab661c",
     "locked": true,
     "schema_version": 3,
     "solution": false
    }
   },
   "source": [
    "## 4. Training"
   ]
  },
  {
   "cell_type": "markdown",
   "metadata": {
    "deletable": false,
    "editable": false,
    "nbgrader": {
     "cell_type": "markdown",
     "checksum": "37db0968c390e269c2670d7f88e8d403",
     "grade": false,
     "grade_id": "cell-1c4e4c6b7186c418",
     "locked": true,
     "schema_version": 3,
     "solution": false
    }
   },
   "source": [
    "The fourth step is where you will choose the architecture of your network (number of hidden layers, activation functions, etc.), and train it. \n",
    "\n",
    "Start by choosing an architecture for your network."
   ]
  },
  {
   "cell_type": "code",
   "execution_count": 17,
   "metadata": {
    "deletable": false,
    "nbgrader": {
     "cell_type": "code",
     "checksum": "2dee567112649e4b688372cbabe29252",
     "grade": true,
     "grade_id": "cell-dff32f0d1dd91a72",
     "locked": false,
     "points": 0,
     "schema_version": 3,
     "solution": true,
     "task": false
    }
   },
   "outputs": [],
   "source": [
    "# YOUR CODE HERE\n",
    "\n",
    "# A `numpy array` can easily be made into a `torch.Tensor´\n",
    "torch_x = torch.tensor(x_train, dtype=torch.float32)\n",
    "torch_y = torch.tensor(y_train, dtype=torch.int64)\n",
    "\n",
    "train_dataset = TensorDataset(torch_x, torch_y)\n",
    "train_dataloader = DataLoader(train_dataset,batch_size = len(X))\n",
    "\n",
    "weights = torch.randn(2, 3)\n",
    "weights.requires_grad_()\n",
    "bias = torch.zeros(3, requires_grad=True)\n",
    "\n",
    "torch_x_val = torch.tensor(x_val, dtype = torch.float32)\n",
    "torch_y_val = torch.tensor(y_val, dtype = torch.int64)\n",
    "\n",
    "val_dataset = TensorDataset(torch_x_val, torch_y_val)\n",
    "val_dataloader = DataLoader(val_dataset, batch_size = len(X))\n",
    "\n",
    "class ClassifierNetwork(nn.Module):\n",
    "    def __init__(self):\n",
    "        super().__init__()\n",
    "        self.layer_1 = nn.Linear(2, 7)\n",
    "        self.layer_2 = nn.Linear(7, 5)\n",
    "        self.layer_3 = nn.Linear(5, 4)\n",
    "        self.layer_out = nn.Linear(4, 3)\n",
    "        \n",
    "    def forward(self, x):\n",
    "        x = F.relu(self.layer_1(x))\n",
    "        x = F.relu(self.layer_2(x))\n",
    "        x = F.relu(self.layer_3(x))\n",
    "        x = self.layer_out(x)\n",
    "        return x\n",
    "\n",
    "model = ClassifierNetwork()\n",
    "loss_fn = nn.CrossEntropyLoss()"
   ]
  },
  {
   "cell_type": "markdown",
   "metadata": {
    "deletable": false,
    "editable": false,
    "nbgrader": {
     "cell_type": "markdown",
     "checksum": "4e56a39b734fb1a6785dc7d5ef30dc51",
     "grade": false,
     "grade_id": "cell-d91e1230c6b9225d",
     "locked": true,
     "schema_version": 3,
     "solution": false
    }
   },
   "source": [
    "Train the network."
   ]
  },
  {
   "cell_type": "code",
   "execution_count": 18,
   "metadata": {
    "deletable": false,
    "nbgrader": {
     "cell_type": "code",
     "checksum": "4e418b4c1971dc704387808b8c1a403c",
     "grade": true,
     "grade_id": "cell-711ca3d58ad725b4",
     "locked": false,
     "points": 0,
     "schema_version": 3,
     "solution": true
    }
   },
   "outputs": [
    {
     "name": "stdout",
     "output_type": "stream",
     "text": [
      "Epoch 0 \tLoss: 2.231 \tLoss (val): 1.897\tAccuracy: 0.31 \tAccuracy (val): 0.32\n",
      "Epoch 1 \tLoss: 2.080 \tLoss (val): 1.777\tAccuracy: 0.31 \tAccuracy (val): 0.32\n",
      "Epoch 2 \tLoss: 1.935 \tLoss (val): 1.665\tAccuracy: 0.31 \tAccuracy (val): 0.32\n",
      "Epoch 3 \tLoss: 1.799 \tLoss (val): 1.561\tAccuracy: 0.31 \tAccuracy (val): 0.32\n",
      "Epoch 4 \tLoss: 1.673 \tLoss (val): 1.470\tAccuracy: 0.31 \tAccuracy (val): 0.32\n",
      "Epoch 5 \tLoss: 1.562 \tLoss (val): 1.389\tAccuracy: 0.31 \tAccuracy (val): 0.32\n",
      "Epoch 6 \tLoss: 1.460 \tLoss (val): 1.318\tAccuracy: 0.31 \tAccuracy (val): 0.32\n",
      "Epoch 7 \tLoss: 1.371 \tLoss (val): 1.262\tAccuracy: 0.31 \tAccuracy (val): 0.32\n",
      "Epoch 8 \tLoss: 1.296 \tLoss (val): 1.222\tAccuracy: 0.31 \tAccuracy (val): 0.32\n",
      "Epoch 9 \tLoss: 1.240 \tLoss (val): 1.200\tAccuracy: 0.31 \tAccuracy (val): 0.32\n",
      "Epoch 10 \tLoss: 1.203 \tLoss (val): 1.195\tAccuracy: 0.31 \tAccuracy (val): 0.36\n",
      "Epoch 11 \tLoss: 1.186 \tLoss (val): 1.205\tAccuracy: 0.38 \tAccuracy (val): 0.23\n",
      "Epoch 12 \tLoss: 1.186 \tLoss (val): 1.224\tAccuracy: 0.28 \tAccuracy (val): 0.23\n",
      "Epoch 13 \tLoss: 1.197 \tLoss (val): 1.246\tAccuracy: 0.28 \tAccuracy (val): 0.23\n",
      "Epoch 14 \tLoss: 1.213 \tLoss (val): 1.265\tAccuracy: 0.28 \tAccuracy (val): 0.23\n",
      "Epoch 15 \tLoss: 1.227 \tLoss (val): 1.277\tAccuracy: 0.28 \tAccuracy (val): 0.23\n",
      "Epoch 16 \tLoss: 1.237 \tLoss (val): 1.281\tAccuracy: 0.28 \tAccuracy (val): 0.23\n",
      "Epoch 17 \tLoss: 1.240 \tLoss (val): 1.277\tAccuracy: 0.28 \tAccuracy (val): 0.23\n",
      "Epoch 18 \tLoss: 1.236 \tLoss (val): 1.265\tAccuracy: 0.28 \tAccuracy (val): 0.23\n",
      "Epoch 19 \tLoss: 1.226 \tLoss (val): 1.248\tAccuracy: 0.28 \tAccuracy (val): 0.23\n",
      "Epoch 20 \tLoss: 1.212 \tLoss (val): 1.228\tAccuracy: 0.28 \tAccuracy (val): 0.23\n",
      "Epoch 21 \tLoss: 1.194 \tLoss (val): 1.206\tAccuracy: 0.28 \tAccuracy (val): 0.23\n",
      "Epoch 22 \tLoss: 1.176 \tLoss (val): 1.185\tAccuracy: 0.28 \tAccuracy (val): 0.23\n",
      "Epoch 23 \tLoss: 1.159 \tLoss (val): 1.165\tAccuracy: 0.28 \tAccuracy (val): 0.23\n",
      "Epoch 24 \tLoss: 1.145 \tLoss (val): 1.149\tAccuracy: 0.28 \tAccuracy (val): 0.23\n",
      "Epoch 25 \tLoss: 1.134 \tLoss (val): 1.137\tAccuracy: 0.28 \tAccuracy (val): 0.23\n",
      "Epoch 26 \tLoss: 1.127 \tLoss (val): 1.128\tAccuracy: 0.28 \tAccuracy (val): 0.35\n",
      "Epoch 27 \tLoss: 1.123 \tLoss (val): 1.122\tAccuracy: 0.39 \tAccuracy (val): 0.44\n",
      "Epoch 28 \tLoss: 1.121 \tLoss (val): 1.118\tAccuracy: 0.47 \tAccuracy (val): 0.34\n",
      "Epoch 29 \tLoss: 1.121 \tLoss (val): 1.116\tAccuracy: 0.35 \tAccuracy (val): 0.32\n",
      "Epoch 30 \tLoss: 1.122 \tLoss (val): 1.115\tAccuracy: 0.31 \tAccuracy (val): 0.32\n",
      "Epoch 31 \tLoss: 1.123 \tLoss (val): 1.113\tAccuracy: 0.31 \tAccuracy (val): 0.32\n",
      "Epoch 32 \tLoss: 1.123 \tLoss (val): 1.111\tAccuracy: 0.31 \tAccuracy (val): 0.32\n",
      "Epoch 33 \tLoss: 1.122 \tLoss (val): 1.108\tAccuracy: 0.31 \tAccuracy (val): 0.32\n",
      "Epoch 34 \tLoss: 1.119 \tLoss (val): 1.105\tAccuracy: 0.31 \tAccuracy (val): 0.32\n",
      "Epoch 35 \tLoss: 1.115 \tLoss (val): 1.101\tAccuracy: 0.31 \tAccuracy (val): 0.32\n",
      "Epoch 36 \tLoss: 1.110 \tLoss (val): 1.097\tAccuracy: 0.31 \tAccuracy (val): 0.32\n",
      "Epoch 37 \tLoss: 1.104 \tLoss (val): 1.094\tAccuracy: 0.31 \tAccuracy (val): 0.32\n",
      "Epoch 38 \tLoss: 1.098 \tLoss (val): 1.091\tAccuracy: 0.31 \tAccuracy (val): 0.32\n",
      "Epoch 39 \tLoss: 1.092 \tLoss (val): 1.088\tAccuracy: 0.31 \tAccuracy (val): 0.37\n",
      "Epoch 40 \tLoss: 1.087 \tLoss (val): 1.086\tAccuracy: 0.39 \tAccuracy (val): 0.44\n",
      "Epoch 41 \tLoss: 1.082 \tLoss (val): 1.085\tAccuracy: 0.47 \tAccuracy (val): 0.40\n",
      "Epoch 42 \tLoss: 1.079 \tLoss (val): 1.085\tAccuracy: 0.43 \tAccuracy (val): 0.39\n",
      "Epoch 43 \tLoss: 1.076 \tLoss (val): 1.085\tAccuracy: 0.42 \tAccuracy (val): 0.35\n",
      "Epoch 44 \tLoss: 1.074 \tLoss (val): 1.085\tAccuracy: 0.39 \tAccuracy (val): 0.33\n",
      "Epoch 45 \tLoss: 1.072 \tLoss (val): 1.085\tAccuracy: 0.38 \tAccuracy (val): 0.28\n",
      "Epoch 46 \tLoss: 1.071 \tLoss (val): 1.085\tAccuracy: 0.32 \tAccuracy (val): 0.28\n",
      "Epoch 47 \tLoss: 1.069 \tLoss (val): 1.083\tAccuracy: 0.31 \tAccuracy (val): 0.27\n",
      "Epoch 48 \tLoss: 1.067 \tLoss (val): 1.081\tAccuracy: 0.31 \tAccuracy (val): 0.28\n",
      "Epoch 49 \tLoss: 1.064 \tLoss (val): 1.078\tAccuracy: 0.31 \tAccuracy (val): 0.28\n",
      "Epoch 50 \tLoss: 1.061 \tLoss (val): 1.074\tAccuracy: 0.32 \tAccuracy (val): 0.30\n",
      "Epoch 51 \tLoss: 1.057 \tLoss (val): 1.070\tAccuracy: 0.33 \tAccuracy (val): 0.35\n",
      "Epoch 52 \tLoss: 1.053 \tLoss (val): 1.065\tAccuracy: 0.39 \tAccuracy (val): 0.39\n",
      "Epoch 53 \tLoss: 1.049 \tLoss (val): 1.060\tAccuracy: 0.42 \tAccuracy (val): 0.42\n",
      "Epoch 54 \tLoss: 1.045 \tLoss (val): 1.056\tAccuracy: 0.45 \tAccuracy (val): 0.45\n",
      "Epoch 55 \tLoss: 1.041 \tLoss (val): 1.051\tAccuracy: 0.47 \tAccuracy (val): 0.46\n",
      "Epoch 56 \tLoss: 1.037 \tLoss (val): 1.047\tAccuracy: 0.48 \tAccuracy (val): 0.48\n",
      "Epoch 57 \tLoss: 1.033 \tLoss (val): 1.042\tAccuracy: 0.51 \tAccuracy (val): 0.50\n",
      "Epoch 58 \tLoss: 1.029 \tLoss (val): 1.038\tAccuracy: 0.51 \tAccuracy (val): 0.48\n",
      "Epoch 59 \tLoss: 1.026 \tLoss (val): 1.035\tAccuracy: 0.50 \tAccuracy (val): 0.49\n",
      "Epoch 60 \tLoss: 1.022 \tLoss (val): 1.031\tAccuracy: 0.50 \tAccuracy (val): 0.47\n",
      "Epoch 61 \tLoss: 1.018 \tLoss (val): 1.027\tAccuracy: 0.48 \tAccuracy (val): 0.46\n",
      "Epoch 62 \tLoss: 1.014 \tLoss (val): 1.024\tAccuracy: 0.46 \tAccuracy (val): 0.46\n",
      "Epoch 63 \tLoss: 1.011 \tLoss (val): 1.021\tAccuracy: 0.47 \tAccuracy (val): 0.47\n",
      "Epoch 64 \tLoss: 1.008 \tLoss (val): 1.019\tAccuracy: 0.48 \tAccuracy (val): 0.48\n",
      "Epoch 65 \tLoss: 1.005 \tLoss (val): 1.017\tAccuracy: 0.50 \tAccuracy (val): 0.49\n",
      "Epoch 66 \tLoss: 1.002 \tLoss (val): 1.015\tAccuracy: 0.51 \tAccuracy (val): 0.50\n",
      "Epoch 67 \tLoss: 1.000 \tLoss (val): 1.014\tAccuracy: 0.52 \tAccuracy (val): 0.52\n",
      "Epoch 68 \tLoss: 0.997 \tLoss (val): 1.013\tAccuracy: 0.54 \tAccuracy (val): 0.52\n",
      "Epoch 69 \tLoss: 0.995 \tLoss (val): 1.012\tAccuracy: 0.54 \tAccuracy (val): 0.51\n",
      "Epoch 70 \tLoss: 0.993 \tLoss (val): 1.011\tAccuracy: 0.54 \tAccuracy (val): 0.52\n",
      "Epoch 71 \tLoss: 0.991 \tLoss (val): 1.010\tAccuracy: 0.55 \tAccuracy (val): 0.53\n",
      "Epoch 72 \tLoss: 0.990 \tLoss (val): 1.010\tAccuracy: 0.55 \tAccuracy (val): 0.53\n",
      "Epoch 73 \tLoss: 0.989 \tLoss (val): 1.009\tAccuracy: 0.56 \tAccuracy (val): 0.53\n",
      "Epoch 74 \tLoss: 0.987 \tLoss (val): 1.008\tAccuracy: 0.56 \tAccuracy (val): 0.54\n",
      "Epoch 75 \tLoss: 0.986 \tLoss (val): 1.008\tAccuracy: 0.56 \tAccuracy (val): 0.53\n",
      "Epoch 76 \tLoss: 0.985 \tLoss (val): 1.007\tAccuracy: 0.57 \tAccuracy (val): 0.53\n",
      "Epoch 77 \tLoss: 0.984 \tLoss (val): 1.006\tAccuracy: 0.57 \tAccuracy (val): 0.54\n",
      "Epoch 78 \tLoss: 0.983 \tLoss (val): 1.005\tAccuracy: 0.56 \tAccuracy (val): 0.54\n",
      "Epoch 79 \tLoss: 0.983 \tLoss (val): 1.004\tAccuracy: 0.57 \tAccuracy (val): 0.54\n",
      "Epoch 80 \tLoss: 0.982 \tLoss (val): 1.004\tAccuracy: 0.57 \tAccuracy (val): 0.55\n",
      "Epoch 81 \tLoss: 0.981 \tLoss (val): 1.003\tAccuracy: 0.57 \tAccuracy (val): 0.54\n",
      "Epoch 82 \tLoss: 0.981 \tLoss (val): 1.002\tAccuracy: 0.57 \tAccuracy (val): 0.54\n",
      "Epoch 83 \tLoss: 0.980 \tLoss (val): 1.001\tAccuracy: 0.57 \tAccuracy (val): 0.54\n",
      "Epoch 84 \tLoss: 0.979 \tLoss (val): 1.000\tAccuracy: 0.57 \tAccuracy (val): 0.55\n",
      "Epoch 85 \tLoss: 0.979 \tLoss (val): 0.999\tAccuracy: 0.59 \tAccuracy (val): 0.55\n",
      "Epoch 86 \tLoss: 0.978 \tLoss (val): 0.999\tAccuracy: 0.59 \tAccuracy (val): 0.55\n",
      "Epoch 87 \tLoss: 0.977 \tLoss (val): 0.998\tAccuracy: 0.59 \tAccuracy (val): 0.55\n",
      "Epoch 88 \tLoss: 0.977 \tLoss (val): 0.997\tAccuracy: 0.59 \tAccuracy (val): 0.55\n",
      "Epoch 89 \tLoss: 0.976 \tLoss (val): 0.996\tAccuracy: 0.58 \tAccuracy (val): 0.54\n",
      "Epoch 90 \tLoss: 0.975 \tLoss (val): 0.995\tAccuracy: 0.57 \tAccuracy (val): 0.54\n",
      "Epoch 91 \tLoss: 0.974 \tLoss (val): 0.995\tAccuracy: 0.57 \tAccuracy (val): 0.54\n",
      "Epoch 92 \tLoss: 0.973 \tLoss (val): 0.994\tAccuracy: 0.57 \tAccuracy (val): 0.54\n",
      "Epoch 93 \tLoss: 0.973 \tLoss (val): 0.993\tAccuracy: 0.57 \tAccuracy (val): 0.54\n",
      "Epoch 94 \tLoss: 0.972 \tLoss (val): 0.993\tAccuracy: 0.57 \tAccuracy (val): 0.54\n",
      "Epoch 95 \tLoss: 0.971 \tLoss (val): 0.992\tAccuracy: 0.57 \tAccuracy (val): 0.54\n",
      "Epoch 96 \tLoss: 0.970 \tLoss (val): 0.991\tAccuracy: 0.57 \tAccuracy (val): 0.54\n",
      "Epoch 97 \tLoss: 0.969 \tLoss (val): 0.991\tAccuracy: 0.57 \tAccuracy (val): 0.54\n",
      "Epoch 98 \tLoss: 0.969 \tLoss (val): 0.990\tAccuracy: 0.57 \tAccuracy (val): 0.54\n",
      "Epoch 99 \tLoss: 0.968 \tLoss (val): 0.989\tAccuracy: 0.57 \tAccuracy (val): 0.54\n"
     ]
    }
   ],
   "source": [
    "optimizer = optim.Adam(model.parameters(), lr=0.001)\n",
    "\n",
    "def evaluate_model(val_dataloader, model, loss_fn):\n",
    "    losses = []\n",
    "    n_correct = 0\n",
    "    with torch.no_grad():\n",
    "        for b_x, b_y in val_dataloader:\n",
    "            pred = model(b_x)\n",
    "            loss = loss_fn(pred, b_y)\n",
    "            losses.append(loss.item())\n",
    "            \n",
    "            hard_preds = pred.argmax(dim=1)\n",
    "            n_correct += torch.sum(pred.argmax(dim=1) == b_y).item()\n",
    "        val_accuracy = n_correct/len(val_dataset)\n",
    "        val_avg_loss = sum(losses)/len(losses)    \n",
    "    \n",
    "    return val_accuracy, val_avg_loss\n",
    "\n",
    "for epoch in range(100):\n",
    "    losses = []\n",
    "    n_correct = 0\n",
    "    for b_x, b_y in train_dataloader:\n",
    "        \n",
    "        # Compute predictions and losses\n",
    "        pred = model(b_x)\n",
    "        loss = loss_fn(pred, b_y)\n",
    "        losses.append(loss.item())\n",
    "        \n",
    "        # Count number of correct predictions\n",
    "        hard_preds = pred.argmax(dim=1)\n",
    "        n_correct += torch.sum(pred.argmax(dim=1) == b_y).item()\n",
    "\n",
    "        # Backpropagate\n",
    "        loss.backward()\n",
    "        optimizer.step()\n",
    "        optimizer.zero_grad()    \n",
    "        \n",
    "    # Compute accuracy and loss in the entire training set\n",
    "    train_accuracy = n_correct/len(train_dataset)\n",
    "    train_avg_loss = sum(losses)/len(losses)    \n",
    "        \n",
    "    # Compute accuracy and loss in the entire validation set\n",
    "    val_accuracy, val_avg_loss = evaluate_model(val_dataloader, model, loss_fn)\n",
    "        \n",
    "    # Display metrics\n",
    "    display_str = 'Epoch {} '\n",
    "    display_str += '\\tLoss: {:.3f} '\n",
    "    display_str += '\\tLoss (val): {:.3f}'\n",
    "    display_str += '\\tAccuracy: {:.2f} '\n",
    "    display_str += '\\tAccuracy (val): {:.2f}'\n",
    "    print(display_str.format(epoch, train_avg_loss, val_avg_loss, train_accuracy, val_accuracy))"
   ]
  },
  {
   "cell_type": "markdown",
   "metadata": {
    "deletable": false,
    "editable": false,
    "nbgrader": {
     "cell_type": "markdown",
     "checksum": "08f25d921ab7040f778a202f5a69b1a7",
     "grade": false,
     "grade_id": "cell-effc356fff18a4b5",
     "locked": true,
     "schema_version": 3,
     "solution": false
    }
   },
   "source": [
    "## 5. Evaluation"
   ]
  },
  {
   "cell_type": "markdown",
   "metadata": {
    "deletable": false,
    "editable": false,
    "nbgrader": {
     "cell_type": "markdown",
     "checksum": "3fde4c14a763e71443a14b720b2d2e77",
     "grade": false,
     "grade_id": "cell-b2bbee2adf94b7d3",
     "locked": true,
     "schema_version": 3,
     "solution": false
    }
   },
   "source": [
    "Once you achieved at least 50% accuracy in the validation set, we are done with training. Now we'll evaluate the performance of your classifier on the test set."
   ]
  },
  {
   "cell_type": "markdown",
   "metadata": {
    "deletable": false,
    "editable": false,
    "nbgrader": {
     "cell_type": "markdown",
     "checksum": "79420c8cb4af750ed05be42a2c4d528b",
     "grade": false,
     "grade_id": "cell-3f4ab762e2890554",
     "locked": true,
     "schema_version": 3,
     "solution": false
    }
   },
   "source": [
    "Compute the accuracy on the test set."
   ]
  },
  {
   "cell_type": "code",
   "execution_count": 19,
   "metadata": {
    "deletable": false,
    "nbgrader": {
     "cell_type": "code",
     "checksum": "5251eed9c71815693e915582fcac7643",
     "grade": true,
     "grade_id": "cell-64d1008aafb3e518",
     "locked": false,
     "points": 0,
     "schema_version": 3,
     "solution": true,
     "task": false
    }
   },
   "outputs": [
    {
     "name": "stdout",
     "output_type": "stream",
     "text": [
      "Accuracy: 0.59\n"
     ]
    }
   ],
   "source": [
    "# YOUR CODE HERE\n",
    "test_samples = torch.tensor(x_test, dtype=torch.float32)\n",
    "test_labels = torch.tensor(y_test, dtype=torch.int64)\n",
    "\n",
    "prediction = model(test_samples).argmax(dim=1)\n",
    "accuracy = (prediction == test_labels).sum().item()/len(prediction)\n",
    "print(\"Accuracy: %.2f\" %accuracy)"
   ]
  },
  {
   "cell_type": "markdown",
   "metadata": {
    "deletable": false,
    "editable": false,
    "nbgrader": {
     "cell_type": "markdown",
     "checksum": "56aa12a95fe3c466649cff3f8a0097de",
     "grade": false,
     "grade_id": "cell-8232dd159f8d4887",
     "locked": true,
     "schema_version": 3,
     "solution": false
    }
   },
   "source": [
    "Compute the confusion matrix of your predictions on the test set."
   ]
  },
  {
   "cell_type": "code",
   "execution_count": 20,
   "metadata": {
    "deletable": false,
    "nbgrader": {
     "cell_type": "code",
     "checksum": "fabe3566394c7037a10d86e5b5256d8d",
     "grade": true,
     "grade_id": "cell-9475a5163acc3249",
     "locked": false,
     "points": 0,
     "schema_version": 3,
     "solution": true,
     "task": false
    }
   },
   "outputs": [
    {
     "data": {
      "text/plain": [
       "array([[121,   9,  13],\n",
       "       [ 57,  39,  34],\n",
       "       [ 60,   0,  84]], dtype=int64)"
      ]
     },
     "execution_count": 20,
     "metadata": {},
     "output_type": "execute_result"
    }
   ],
   "source": [
    "# YOUR CODE HERE\n",
    "from sklearn.metrics import confusion_matrix\n",
    "preds = model(test_samples).argmax(dim=1)\n",
    "confusion_matrix(test_labels, preds)"
   ]
  },
  {
   "cell_type": "markdown",
   "metadata": {
    "deletable": false,
    "editable": false,
    "nbgrader": {
     "cell_type": "markdown",
     "checksum": "3c40d3a1011baf32ab12185c9f1f6ba9",
     "grade": false,
     "grade_id": "cell-d64ba10a699f05f3",
     "locked": true,
     "schema_version": 3,
     "solution": false,
     "task": false
    }
   },
   "source": [
    "Visualize the decision regions of the network. Overlap it with the points corresponding to the training data, such as in Section 2, by using the scatter plot function.\n",
    "\n",
    "Hint: A simple way to do it is to generate a lot of points within a predefined range of longitude and latitude and apply your network to it. However, feel free to explore other ways."
   ]
  },
  {
   "cell_type": "code",
   "execution_count": 21,
   "metadata": {
    "deletable": false,
    "nbgrader": {
     "cell_type": "code",
     "checksum": "298813aa672049ece0fadc7693b59e11",
     "grade": true,
     "grade_id": "cell-2cfbecf57fd1043f",
     "locked": false,
     "points": 0,
     "schema_version": 3,
     "solution": true,
     "task": false
    }
   },
   "outputs": [
    {
     "data": {
      "text/plain": [
       "<matplotlib.legend.Legend at 0x1d0b6115988>"
      ]
     },
     "execution_count": 21,
     "metadata": {},
     "output_type": "execute_result"
    },
    {
     "data": {
      "image/png": "[encoded data removed]",
      "text/plain": [
       "<Figure size 222.375x180 with 1 Axes>"
      ]
     },
     "metadata": {
      "needs_background": "light"
     },
     "output_type": "display_data"
    }
   ],
   "source": [
    "lat = np.random.uniform(-50, 70, size=(8000,1))\n",
    "long = np.random.uniform(-150, 180, size=(8000,1))\n",
    "rcoord = np.concatenate((lat,long),axis=1)\n",
    "xnew = np.concatenate((x_train,rcoord))\n",
    "test = torch.tensor(xnew, dtype=torch.float32)\n",
    "vis = pd.DataFrame(data=xnew, columns=[\"latitude\", \"longitude\"])\n",
    "vis['class'] = model(test).argmax(dim=1).numpy().tolist()\n",
    "final = sns.pairplot(x_vars=['latitude'], y_vars=['longitude'], data=vis, hue=\"class\",markers='x')\n",
    "plt.xlabel('Lat')\n",
    "plt.ylabel('Long')\n",
    "plt.legend(['Diglett', 'Seel','Tauros'])"
   ]
  },
  {
   "cell_type": "markdown",
   "metadata": {
    "deletable": false,
    "editable": false,
    "nbgrader": {
     "cell_type": "markdown",
     "checksum": "45326e647639aa6e0ca4231f2ddabfc7",
     "grade": false,
     "grade_id": "cell-2356390d7821c9a1",
     "locked": true,
     "schema_version": 3,
     "solution": false,
     "task": false
    }
   },
   "source": [
    "Do the learned decision regions look like you would expect? Please comment on your results. "
   ]
  },
  {
   "cell_type": "markdown",
   "metadata": {
    "deletable": false,
    "nbgrader": {
     "cell_type": "markdown",
     "checksum": "d9b96878943770222d21f73a2a191b08",
     "grade": true,
     "grade_id": "cell-8d948a53e74c0181",
     "locked": false,
     "points": 0,
     "schema_version": 3,
     "solution": true,
     "task": false
    }
   },
   "source": [
    "**Your answer:**\n",
    "    From the learned decision regions it can be seen that Digilette is spread across the region, but the other two classes doesn't fit correctly and hence doesn't look as expected."
   ]
  },
  {
   "cell_type": "markdown",
   "metadata": {
    "deletable": false,
    "editable": false,
    "nbgrader": {
     "cell_type": "markdown",
     "checksum": "99a1266a62880be4cf1f724ed704ddb2",
     "grade": false,
     "grade_id": "cell-b731aebed710ae07",
     "locked": true,
     "schema_version": 3,
     "solution": false
    }
   },
   "source": [
    "## 6. Exploration"
   ]
  },
  {
   "cell_type": "markdown",
   "metadata": {
    "nbgrader": {
     "cell_type": "markdown",
     "checksum": "4e0eb26832febb3a136740004988db6b",
     "grade": false,
     "grade_id": "cell-e9f21e8b0fe33751",
     "locked": true,
     "schema_version": 3,
     "solution": false
    }
   },
   "source": [
    "To investigate your hypothesis, plot a histogram of the selected feature(s) for each one of the pokemons we're interested in. For example, if you think pressure and population density are valuable for prediction, plot 6 histograms. 3 of them will be the pressure histograms for each class ('Diglett', 'Seel' and 'Tauros'), and the other 3 will be the population density for each class."
   ]
  },
  {
   "cell_type": "code",
   "execution_count": 22,
   "metadata": {
    "deletable": false,
    "nbgrader": {
     "cell_type": "code",
     "checksum": "6701fb6bd1284791b9c065777eaaebae",
     "grade": true,
     "grade_id": "cell-b18deaa33c46ec92",
     "locked": false,
     "points": 0,
     "schema_version": 3,
     "solution": true
    }
   },
   "outputs": [
    {
     "data": {
      "image/png": "[encoded data removed]",
      "text/plain": [
       "<Figure size 432x288 with 1 Axes>"
      ]
     },
     "metadata": {
      "needs_background": "light"
     },
     "output_type": "display_data"
    },
    {
     "data": {
      "image/png": "[encoded data removed]",
      "text/plain": [
       "<Figure size 432x288 with 1 Axes>"
      ]
     },
     "metadata": {
      "needs_background": "light"
     },
     "output_type": "display_data"
    },
    {
     "data": {
      "image/png": "[encoded data removed]",
      "text/plain": [
       "<Figure size 432x288 with 1 Axes>"
      ]
     },
     "metadata": {
      "needs_background": "light"
     },
     "output_type": "display_data"
    },
    {
     "data": {
      "image/png": "[encoded data removed]",
      "text/plain": [
       "<Figure size 432x288 with 1 Axes>"
      ]
     },
     "metadata": {
      "needs_background": "light"
     },
     "output_type": "display_data"
    },
    {
     "data": {
      "image/png": "[encoded data removed]",
      "text/plain": [
       "<Figure size 432x288 with 1 Axes>"
      ]
     },
     "metadata": {
      "needs_background": "light"
     },
     "output_type": "display_data"
    },
    {
     "data": {
      "image/png": "[encoded data removed]",
      "text/plain": [
       "<Figure size 432x288 with 1 Axes>"
      ]
     },
     "metadata": {
      "needs_background": "light"
     },
     "output_type": "display_data"
    }
   ],
   "source": [
    "for feat in ['pressure','temperature']:\n",
    "    for i in ids:\n",
    "        tempData = Data.loc[Data['class']==i]\n",
    "        histo = tempData[feat].tolist()\n",
    "        plt.hist(histo, bins= 20)\n",
    "        plt.xlabel(feat)\n",
    "        plt.ylabel('# Occurances')\n",
    "        plt.title(name_dict[i])\n",
    "        plt.show()"
   ]
  }
 ],
 "metadata": {
  "celltoolbar": "Edit Metadata",
  "kernelspec": {
   "display_name": "Python 3",
   "language": "python",
   "name": "python3"
  },
  "language_info": {
   "codemirror_mode": {
    "name": "ipython",
    "version": 3
   },
   "file_extension": ".py",
   "mimetype": "text/x-python",
   "name": "python",
   "nbconvert_exporter": "python",
   "pygments_lexer": "ipython3",
   "version": "3.6.9"
  }
 },
 "nbformat": 4,
 "nbformat_minor": 2
}
